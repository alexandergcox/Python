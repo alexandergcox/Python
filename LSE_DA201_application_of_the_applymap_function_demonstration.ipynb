{
 "cells": [
  {
   "cell_type": "markdown",
   "id": "98969171",
   "metadata": {},
   "source": [
    "### LSE Data Analytics Online Career Accelerator \n",
    "\n",
    "# DA201:  Data Analytics with Python"
   ]
  },
  {
   "cell_type": "markdown",
   "id": "5b6f9d5d",
   "metadata": {},
   "source": [
    "## Application of the applymap function (tutorial video)"
   ]
  },
  {
   "cell_type": "markdown",
   "id": "3b5224bd",
   "metadata": {},
   "source": [
    "This file contains the code snippets that are introduced in the 'Application of the applymap function' video. \n",
    "Follow along with the demonstration to use the applymap function to: \n",
    "- apply a function to every element within a DataFrame\n",
    "\n",
    "Play and pause the video to follow along with the demonstration."
   ]
  },
  {
   "cell_type": "markdown",
   "id": "b0af3d0f",
   "metadata": {},
   "source": [
    "### 1. Import pandas and create a DataFrame"
   ]
  },
  {
   "cell_type": "code",
   "execution_count": 1,
   "id": "bbb2d17b",
   "metadata": {},
   "outputs": [
    {
     "name": "stdout",
     "output_type": "stream",
     "text": [
      "(193, 6)\n",
      "country                          object\n",
      "beer_servings                     int64\n",
      "spirit_servings                   int64\n",
      "wine_servings                     int64\n",
      "total_litres_of_pure_alcohol    float64\n",
      "continent                        object\n",
      "dtype: object\n"
     ]
    }
   ],
   "source": [
    "# Import Pandas.\n",
    "import pandas as pd\n",
    "\n",
    "# Import a CSV data set with a URL from a website.\n",
    "drinks = pd.read_csv('http://bit.ly/drinksbycountry')\n",
    "\n",
    "# View the DataFrame.\n",
    "print(drinks.shape)\n",
    "print(drinks.dtypes)"
   ]
  },
  {
   "cell_type": "markdown",
   "id": "87707c41",
   "metadata": {},
   "source": [
    "### 2. Change integer values to floats using applymap()"
   ]
  },
  {
   "cell_type": "code",
   "execution_count": 2,
   "id": "3d46828b",
   "metadata": {},
   "outputs": [
    {
     "data": {
      "text/html": [
       "<div>\n",
       "<style scoped>\n",
       "    .dataframe tbody tr th:only-of-type {\n",
       "        vertical-align: middle;\n",
       "    }\n",
       "\n",
       "    .dataframe tbody tr th {\n",
       "        vertical-align: top;\n",
       "    }\n",
       "\n",
       "    .dataframe thead th {\n",
       "        text-align: right;\n",
       "    }\n",
       "</style>\n",
       "<table border=\"1\" class=\"dataframe\">\n",
       "  <thead>\n",
       "    <tr style=\"text-align: right;\">\n",
       "      <th></th>\n",
       "      <th>beer_servings</th>\n",
       "      <th>spirit_servings</th>\n",
       "      <th>wine_servings</th>\n",
       "    </tr>\n",
       "  </thead>\n",
       "  <tbody>\n",
       "    <tr>\n",
       "      <th>0</th>\n",
       "      <td>0.0</td>\n",
       "      <td>0.0</td>\n",
       "      <td>0.0</td>\n",
       "    </tr>\n",
       "    <tr>\n",
       "      <th>1</th>\n",
       "      <td>89.0</td>\n",
       "      <td>132.0</td>\n",
       "      <td>54.0</td>\n",
       "    </tr>\n",
       "    <tr>\n",
       "      <th>2</th>\n",
       "      <td>25.0</td>\n",
       "      <td>0.0</td>\n",
       "      <td>14.0</td>\n",
       "    </tr>\n",
       "    <tr>\n",
       "      <th>3</th>\n",
       "      <td>245.0</td>\n",
       "      <td>138.0</td>\n",
       "      <td>312.0</td>\n",
       "    </tr>\n",
       "    <tr>\n",
       "      <th>4</th>\n",
       "      <td>217.0</td>\n",
       "      <td>57.0</td>\n",
       "      <td>45.0</td>\n",
       "    </tr>\n",
       "  </tbody>\n",
       "</table>\n",
       "</div>"
      ],
      "text/plain": [
       "   beer_servings  spirit_servings  wine_servings\n",
       "0            0.0              0.0            0.0\n",
       "1           89.0            132.0           54.0\n",
       "2           25.0              0.0           14.0\n",
       "3          245.0            138.0          312.0\n",
       "4          217.0             57.0           45.0"
      ]
     },
     "execution_count": 2,
     "metadata": {},
     "output_type": "execute_result"
    }
   ],
   "source": [
    "# Employ the applymap function to specified columns.\n",
    "drinks_new = drinks.loc[:, 'beer_servings':'wine_servings'].applymap(float)\n",
    "\n",
    "# View the DataFrame.\n",
    "drinks_new.head()"
   ]
  },
  {
   "cell_type": "code",
   "execution_count": null,
   "id": "b1ff3935",
   "metadata": {},
   "outputs": [],
   "source": []
  }
 ],
 "metadata": {
  "kernelspec": {
   "display_name": "Python 3 (ipykernel)",
   "language": "python",
   "name": "python3"
  },
  "language_info": {
   "codemirror_mode": {
    "name": "ipython",
    "version": 3
   },
   "file_extension": ".py",
   "mimetype": "text/x-python",
   "name": "python",
   "nbconvert_exporter": "python",
   "pygments_lexer": "ipython3",
   "version": "3.9.13"
  }
 },
 "nbformat": 4,
 "nbformat_minor": 5
}
