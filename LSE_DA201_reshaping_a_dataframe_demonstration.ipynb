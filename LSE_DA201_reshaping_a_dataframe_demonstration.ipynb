{
 "cells": [
  {
   "cell_type": "markdown",
   "id": "db014f8c",
   "metadata": {},
   "source": [
    "### LSE Data Analytics Online Career Accelerator \n",
    "\n",
    "# DA201:  Data Analytics with Python"
   ]
  },
  {
   "cell_type": "markdown",
   "id": "26fd30cd",
   "metadata": {},
   "source": [
    "## Reshaping a DataFrame (tutorial video)"
   ]
  },
  {
   "cell_type": "markdown",
   "id": "f0e883ff",
   "metadata": {},
   "source": [
    "This file contains the code snippets that are introduced in the 'Reshaping a DataFrame' video. \n",
    "Follow along with the demonstration to: \n",
    "- stack a DataFrame\n",
    "- unstack a DataFrame\n",
    "- melt a DataFrame.\n",
    "\n",
    "Play and pause the video to follow along with the demonstration."
   ]
  },
  {
   "cell_type": "markdown",
   "id": "7f8eb3b2",
   "metadata": {},
   "source": [
    "### 1. Import pandas and create DataFrames"
   ]
  },
  {
   "cell_type": "code",
   "execution_count": 1,
   "id": "47904fa1",
   "metadata": {},
   "outputs": [
    {
     "name": "stdout",
     "output_type": "stream",
     "text": [
      "(26850, 6)\n",
      "Index(['InvoiceNo', 'StockCode', 'Quantity', 'InvoiceDate', 'UnitPrice',\n",
      "       'CustomerID'],\n",
      "      dtype='object')\n",
      "(3945, 2)\n",
      "Index(['StockCode', 'Description'], dtype='object')\n"
     ]
    }
   ],
   "source": [
    "# Import Pandas.\n",
    "import pandas as pd\n",
    "\n",
    "# Read the CSV files from the current working directory.\n",
    "transactions = pd.read_csv('transactions_2010.csv')\n",
    "products = pd.read_csv('products.csv')\n",
    "\n",
    "# View the DataFrames.\n",
    "print(transactions.shape)\n",
    "print(transactions.columns)\n",
    "\n",
    "print(products.shape)\n",
    "print(products.columns)"
   ]
  },
  {
   "cell_type": "markdown",
   "id": "7aa96e4c",
   "metadata": {},
   "source": [
    "### 2. Combine the DataFrames into a new DataFrame"
   ]
  },
  {
   "cell_type": "code",
   "execution_count": 2,
   "id": "c3cbd368",
   "metadata": {},
   "outputs": [
    {
     "name": "stdout",
     "output_type": "stream",
     "text": [
      "Index(['InvoiceNo', 'StockCode', 'Quantity', 'InvoiceDate', 'UnitPrice',\n",
      "       'CustomerID', 'Description'],\n",
      "      dtype='object')\n",
      "(26850, 7)\n"
     ]
    }
   ],
   "source": [
    "# Stack the customers.csv from DataFrame to Series.\n",
    "trans_prod = pd.merge(transactions, products, how='left', on='StockCode')\n",
    "\n",
    "# View the new DataFrame.\n",
    "print(trans_prod.columns)\n",
    "print(trans_prod.shape)"
   ]
  },
  {
   "cell_type": "markdown",
   "id": "aa5e225f",
   "metadata": {},
   "source": [
    "### 3. Stacking a DataFrame"
   ]
  },
  {
   "cell_type": "code",
   "execution_count": 3,
   "id": "39a4456f",
   "metadata": {},
   "outputs": [
    {
     "data": {
      "text/plain": [
       "0      InvoiceNo                536365\n",
       "       StockCode                85123A\n",
       "       Quantity                      6\n",
       "       InvoiceDate     2010-12-01 8:26\n",
       "       UnitPrice                  2.55\n",
       "                            ...       \n",
       "26849  StockCode                47559B\n",
       "       Quantity                      2\n",
       "       InvoiceDate    2010-12-23 16:06\n",
       "       UnitPrice                  1.25\n",
       "       CustomerID                18116\n",
       "Length: 161100, dtype: object"
      ]
     },
     "execution_count": 3,
     "metadata": {},
     "output_type": "execute_result"
    }
   ],
   "source": [
    "# Stack the transactions DataFrame from DataFrame to Series.\n",
    "transactions_stack = transactions.stack()\n",
    "\n",
    "# View the output.\n",
    "transactions_stack"
   ]
  },
  {
   "cell_type": "code",
   "execution_count": 4,
   "id": "6f28cf0a",
   "metadata": {},
   "outputs": [
    {
     "name": "stdout",
     "output_type": "stream",
     "text": [
      "      InvoiceNo StockCode  Quantity       InvoiceDate  UnitPrice  CustomerID\n",
      "0        536365    85123A         6   2010-12-01 8:26       2.55       17850\n",
      "1        536365     71053         6   2010-12-01 8:26       3.39       17850\n",
      "2        536365    84406B         8   2010-12-01 8:26       2.75       17850\n",
      "3        536365    84029G         6   2010-12-01 8:26       3.39       17850\n",
      "4        536365    84029E         6   2010-12-01 8:26       3.39       17850\n",
      "...         ...       ...       ...               ...        ...         ...\n",
      "26845    539988     84380         1  2010-12-23 16:06       1.25       18116\n",
      "26846    539988    84849D         1  2010-12-23 16:06       1.69       18116\n",
      "26847    539988    84849B         1  2010-12-23 16:06       1.69       18116\n",
      "26848    539988     22854         2  2010-12-23 16:06       4.95       18116\n",
      "26849    539988    47559B         2  2010-12-23 16:06       1.25       18116\n",
      "\n",
      "[26850 rows x 6 columns]\n"
     ]
    }
   ],
   "source": [
    "# Compare the transactions_stack output to the original DataFrame.\n",
    "print(transactions)"
   ]
  },
  {
   "cell_type": "code",
   "execution_count": 5,
   "id": "bf3c8ca7",
   "metadata": {},
   "outputs": [
    {
     "name": "stdout",
     "output_type": "stream",
     "text": [
      "<class 'pandas.core.series.Series'>\n",
      "MultiIndex([(    0,   'InvoiceNo'),\n",
      "            (    0,   'StockCode'),\n",
      "            (    0,    'Quantity'),\n",
      "            (    0, 'InvoiceDate'),\n",
      "            (    0,   'UnitPrice'),\n",
      "            (    0,  'CustomerID'),\n",
      "            (    1,   'InvoiceNo'),\n",
      "            (    1,   'StockCode'),\n",
      "            (    1,    'Quantity'),\n",
      "            (    1, 'InvoiceDate'),\n",
      "            ...\n",
      "            (26848,    'Quantity'),\n",
      "            (26848, 'InvoiceDate'),\n",
      "            (26848,   'UnitPrice'),\n",
      "            (26848,  'CustomerID'),\n",
      "            (26849,   'InvoiceNo'),\n",
      "            (26849,   'StockCode'),\n",
      "            (26849,    'Quantity'),\n",
      "            (26849, 'InvoiceDate'),\n",
      "            (26849,   'UnitPrice'),\n",
      "            (26849,  'CustomerID')],\n",
      "           length=161100)\n"
     ]
    }
   ],
   "source": [
    "# Confirm the change.\n",
    "# View the data type(s).\n",
    "print(type(transactions_stack))\n",
    "# View the specified index.\n",
    "print(transactions_stack.index)"
   ]
  },
  {
   "cell_type": "markdown",
   "id": "1750d8a0",
   "metadata": {},
   "source": [
    "### 4. Unstacking a DataFrame."
   ]
  },
  {
   "cell_type": "code",
   "execution_count": 6,
   "id": "06f11917",
   "metadata": {},
   "outputs": [
    {
     "data": {
      "text/html": [
       "<div>\n",
       "<style scoped>\n",
       "    .dataframe tbody tr th:only-of-type {\n",
       "        vertical-align: middle;\n",
       "    }\n",
       "\n",
       "    .dataframe tbody tr th {\n",
       "        vertical-align: top;\n",
       "    }\n",
       "\n",
       "    .dataframe thead th {\n",
       "        text-align: right;\n",
       "    }\n",
       "</style>\n",
       "<table border=\"1\" class=\"dataframe\">\n",
       "  <thead>\n",
       "    <tr style=\"text-align: right;\">\n",
       "      <th></th>\n",
       "      <th>InvoiceNo</th>\n",
       "      <th>StockCode</th>\n",
       "      <th>Quantity</th>\n",
       "      <th>InvoiceDate</th>\n",
       "      <th>UnitPrice</th>\n",
       "      <th>CustomerID</th>\n",
       "    </tr>\n",
       "  </thead>\n",
       "  <tbody>\n",
       "    <tr>\n",
       "      <th>0</th>\n",
       "      <td>536365</td>\n",
       "      <td>85123A</td>\n",
       "      <td>6</td>\n",
       "      <td>2010-12-01 8:26</td>\n",
       "      <td>2.55</td>\n",
       "      <td>17850</td>\n",
       "    </tr>\n",
       "    <tr>\n",
       "      <th>1</th>\n",
       "      <td>536365</td>\n",
       "      <td>71053</td>\n",
       "      <td>6</td>\n",
       "      <td>2010-12-01 8:26</td>\n",
       "      <td>3.39</td>\n",
       "      <td>17850</td>\n",
       "    </tr>\n",
       "    <tr>\n",
       "      <th>2</th>\n",
       "      <td>536365</td>\n",
       "      <td>84406B</td>\n",
       "      <td>8</td>\n",
       "      <td>2010-12-01 8:26</td>\n",
       "      <td>2.75</td>\n",
       "      <td>17850</td>\n",
       "    </tr>\n",
       "    <tr>\n",
       "      <th>3</th>\n",
       "      <td>536365</td>\n",
       "      <td>84029G</td>\n",
       "      <td>6</td>\n",
       "      <td>2010-12-01 8:26</td>\n",
       "      <td>3.39</td>\n",
       "      <td>17850</td>\n",
       "    </tr>\n",
       "    <tr>\n",
       "      <th>4</th>\n",
       "      <td>536365</td>\n",
       "      <td>84029E</td>\n",
       "      <td>6</td>\n",
       "      <td>2010-12-01 8:26</td>\n",
       "      <td>3.39</td>\n",
       "      <td>17850</td>\n",
       "    </tr>\n",
       "  </tbody>\n",
       "</table>\n",
       "</div>"
      ],
      "text/plain": [
       "  InvoiceNo StockCode Quantity      InvoiceDate UnitPrice CustomerID\n",
       "0    536365    85123A        6  2010-12-01 8:26      2.55      17850\n",
       "1    536365     71053        6  2010-12-01 8:26      3.39      17850\n",
       "2    536365    84406B        8  2010-12-01 8:26      2.75      17850\n",
       "3    536365    84029G        6  2010-12-01 8:26      3.39      17850\n",
       "4    536365    84029E        6  2010-12-01 8:26      3.39      17850"
      ]
     },
     "execution_count": 6,
     "metadata": {},
     "output_type": "execute_result"
    }
   ],
   "source": [
    "# Unstack the transactions_stack DataFrame.\n",
    "transactions_1 = transactions_stack.unstack()\n",
    "\n",
    "# View the DataFrame.\n",
    "transactions_1.head()"
   ]
  },
  {
   "cell_type": "code",
   "execution_count": 7,
   "id": "334ddb07",
   "metadata": {},
   "outputs": [
    {
     "data": {
      "text/plain": [
       "<bound method NDFrame.head of       InvoiceNo StockCode  Quantity       InvoiceDate  UnitPrice  CustomerID\n",
       "0        536365    85123A         6   2010-12-01 8:26       2.55       17850\n",
       "1        536365     71053         6   2010-12-01 8:26       3.39       17850\n",
       "2        536365    84406B         8   2010-12-01 8:26       2.75       17850\n",
       "3        536365    84029G         6   2010-12-01 8:26       3.39       17850\n",
       "4        536365    84029E         6   2010-12-01 8:26       3.39       17850\n",
       "...         ...       ...       ...               ...        ...         ...\n",
       "26845    539988     84380         1  2010-12-23 16:06       1.25       18116\n",
       "26846    539988    84849D         1  2010-12-23 16:06       1.69       18116\n",
       "26847    539988    84849B         1  2010-12-23 16:06       1.69       18116\n",
       "26848    539988     22854         2  2010-12-23 16:06       4.95       18116\n",
       "26849    539988    47559B         2  2010-12-23 16:06       1.25       18116\n",
       "\n",
       "[26850 rows x 6 columns]>"
      ]
     },
     "execution_count": 7,
     "metadata": {},
     "output_type": "execute_result"
    }
   ],
   "source": [
    "# Compare the transactions_1 output to the original DataFrame.\n",
    "transactions.head"
   ]
  },
  {
   "cell_type": "code",
   "execution_count": 8,
   "id": "b34945c8",
   "metadata": {},
   "outputs": [
    {
     "name": "stdout",
     "output_type": "stream",
     "text": [
      "<class 'pandas.core.frame.DataFrame'>\n",
      "Int64Index([    0,     1,     2,     3,     4,     5,     6,     7,     8,\n",
      "                9,\n",
      "            ...\n",
      "            26840, 26841, 26842, 26843, 26844, 26845, 26846, 26847, 26848,\n",
      "            26849],\n",
      "           dtype='int64', length=26850)\n"
     ]
    }
   ],
   "source": [
    "# Confirm the change.\n",
    "# View the data type(s).\n",
    "print(type(transactions_1))\n",
    "# View the specified index.\n",
    "print(transactions_1.index)"
   ]
  },
  {
   "cell_type": "markdown",
   "id": "4bb8413e",
   "metadata": {},
   "source": [
    "### 5. Melting a DataFrame"
   ]
  },
  {
   "cell_type": "code",
   "execution_count": 9,
   "id": "e7fea86d",
   "metadata": {},
   "outputs": [
    {
     "data": {
      "text/html": [
       "<div>\n",
       "<style scoped>\n",
       "    .dataframe tbody tr th:only-of-type {\n",
       "        vertical-align: middle;\n",
       "    }\n",
       "\n",
       "    .dataframe tbody tr th {\n",
       "        vertical-align: top;\n",
       "    }\n",
       "\n",
       "    .dataframe thead th {\n",
       "        text-align: right;\n",
       "    }\n",
       "</style>\n",
       "<table border=\"1\" class=\"dataframe\">\n",
       "  <thead>\n",
       "    <tr style=\"text-align: right;\">\n",
       "      <th></th>\n",
       "      <th>StockCode</th>\n",
       "      <th>variable</th>\n",
       "      <th>value</th>\n",
       "    </tr>\n",
       "  </thead>\n",
       "  <tbody>\n",
       "    <tr>\n",
       "      <th>0</th>\n",
       "      <td>85123A</td>\n",
       "      <td>Description</td>\n",
       "      <td>CREAM HANGING HEART T-LIGHT HOLDER</td>\n",
       "    </tr>\n",
       "    <tr>\n",
       "      <th>1</th>\n",
       "      <td>71053</td>\n",
       "      <td>Description</td>\n",
       "      <td>WHITE METAL LANTERN</td>\n",
       "    </tr>\n",
       "    <tr>\n",
       "      <th>2</th>\n",
       "      <td>84406B</td>\n",
       "      <td>Description</td>\n",
       "      <td>CREAM CUPID HEARTS COAT HANGER</td>\n",
       "    </tr>\n",
       "    <tr>\n",
       "      <th>3</th>\n",
       "      <td>84029G</td>\n",
       "      <td>Description</td>\n",
       "      <td>KNITTED UNION FLAG HOT WATER BOTTLE</td>\n",
       "    </tr>\n",
       "    <tr>\n",
       "      <th>4</th>\n",
       "      <td>84029E</td>\n",
       "      <td>Description</td>\n",
       "      <td>RED WOOLLY HOTTIE WHITE HEART.</td>\n",
       "    </tr>\n",
       "    <tr>\n",
       "      <th>...</th>\n",
       "      <td>...</td>\n",
       "      <td>...</td>\n",
       "      <td>...</td>\n",
       "    </tr>\n",
       "    <tr>\n",
       "      <th>26845</th>\n",
       "      <td>84380</td>\n",
       "      <td>Description</td>\n",
       "      <td>SET OF 3 BUTTERFLY COOKIE CUTTERS</td>\n",
       "    </tr>\n",
       "    <tr>\n",
       "      <th>26846</th>\n",
       "      <td>84849D</td>\n",
       "      <td>Description</td>\n",
       "      <td>HOT BATHS SOAP HOLDER</td>\n",
       "    </tr>\n",
       "    <tr>\n",
       "      <th>26847</th>\n",
       "      <td>84849B</td>\n",
       "      <td>Description</td>\n",
       "      <td>FAIRY SOAP SOAP HOLDER</td>\n",
       "    </tr>\n",
       "    <tr>\n",
       "      <th>26848</th>\n",
       "      <td>22854</td>\n",
       "      <td>Description</td>\n",
       "      <td>CREAM SWEETHEART EGG HOLDER</td>\n",
       "    </tr>\n",
       "    <tr>\n",
       "      <th>26849</th>\n",
       "      <td>47559B</td>\n",
       "      <td>Description</td>\n",
       "      <td>TEA TIME OVEN GLOVE</td>\n",
       "    </tr>\n",
       "  </tbody>\n",
       "</table>\n",
       "<p>26850 rows × 3 columns</p>\n",
       "</div>"
      ],
      "text/plain": [
       "      StockCode     variable                                value\n",
       "0        85123A  Description   CREAM HANGING HEART T-LIGHT HOLDER\n",
       "1         71053  Description                  WHITE METAL LANTERN\n",
       "2        84406B  Description       CREAM CUPID HEARTS COAT HANGER\n",
       "3        84029G  Description  KNITTED UNION FLAG HOT WATER BOTTLE\n",
       "4        84029E  Description       RED WOOLLY HOTTIE WHITE HEART.\n",
       "...         ...          ...                                  ...\n",
       "26845     84380  Description    SET OF 3 BUTTERFLY COOKIE CUTTERS\n",
       "26846    84849D  Description                HOT BATHS SOAP HOLDER\n",
       "26847    84849B  Description               FAIRY SOAP SOAP HOLDER\n",
       "26848     22854  Description          CREAM SWEETHEART EGG HOLDER\n",
       "26849    47559B  Description                  TEA TIME OVEN GLOVE\n",
       "\n",
       "[26850 rows x 3 columns]"
      ]
     },
     "execution_count": 9,
     "metadata": {},
     "output_type": "execute_result"
    }
   ],
   "source": [
    "# Melt the trans_prod DataFrame.\n",
    "trans_prod.melt(id_vars='StockCode', value_vars='Description')"
   ]
  },
  {
   "cell_type": "code",
   "execution_count": 10,
   "id": "471e36aa",
   "metadata": {},
   "outputs": [
    {
     "name": "stdout",
     "output_type": "stream",
     "text": [
      "      InvoiceNo StockCode  Quantity       InvoiceDate  UnitPrice  CustomerID  \\\n",
      "0        536365    85123A         6   2010-12-01 8:26       2.55       17850   \n",
      "1        536365     71053         6   2010-12-01 8:26       3.39       17850   \n",
      "2        536365    84406B         8   2010-12-01 8:26       2.75       17850   \n",
      "3        536365    84029G         6   2010-12-01 8:26       3.39       17850   \n",
      "4        536365    84029E         6   2010-12-01 8:26       3.39       17850   \n",
      "...         ...       ...       ...               ...        ...         ...   \n",
      "26845    539988     84380         1  2010-12-23 16:06       1.25       18116   \n",
      "26846    539988    84849D         1  2010-12-23 16:06       1.69       18116   \n",
      "26847    539988    84849B         1  2010-12-23 16:06       1.69       18116   \n",
      "26848    539988     22854         2  2010-12-23 16:06       4.95       18116   \n",
      "26849    539988    47559B         2  2010-12-23 16:06       1.25       18116   \n",
      "\n",
      "                               Description  \n",
      "0       CREAM HANGING HEART T-LIGHT HOLDER  \n",
      "1                      WHITE METAL LANTERN  \n",
      "2           CREAM CUPID HEARTS COAT HANGER  \n",
      "3      KNITTED UNION FLAG HOT WATER BOTTLE  \n",
      "4           RED WOOLLY HOTTIE WHITE HEART.  \n",
      "...                                    ...  \n",
      "26845    SET OF 3 BUTTERFLY COOKIE CUTTERS  \n",
      "26846                HOT BATHS SOAP HOLDER  \n",
      "26847               FAIRY SOAP SOAP HOLDER  \n",
      "26848          CREAM SWEETHEART EGG HOLDER  \n",
      "26849                  TEA TIME OVEN GLOVE  \n",
      "\n",
      "[26850 rows x 7 columns]\n"
     ]
    }
   ],
   "source": [
    "# Compare the output to the original DataFrame.\n",
    "print(trans_prod)"
   ]
  },
  {
   "cell_type": "code",
   "execution_count": null,
   "id": "5652e313",
   "metadata": {},
   "outputs": [],
   "source": []
  }
 ],
 "metadata": {
  "kernelspec": {
   "display_name": "Python 3 (ipykernel)",
   "language": "python",
   "name": "python3"
  },
  "language_info": {
   "codemirror_mode": {
    "name": "ipython",
    "version": 3
   },
   "file_extension": ".py",
   "mimetype": "text/x-python",
   "name": "python",
   "nbconvert_exporter": "python",
   "pygments_lexer": "ipython3",
   "version": "3.9.13"
  }
 },
 "nbformat": 4,
 "nbformat_minor": 5
}
