{
 "cells": [
  {
   "cell_type": "markdown",
   "id": "0df56e20",
   "metadata": {},
   "source": [
    "### LSE Data Analytics Online Career Accelerator \n",
    "\n",
    "# DA201:  Data Analytics with Python"
   ]
  },
  {
   "cell_type": "markdown",
   "id": "87cfe4df",
   "metadata": {},
   "source": [
    "## Application of the map() function (tutorial video)"
   ]
  },
  {
   "cell_type": "markdown",
   "id": "3703c89f",
   "metadata": {},
   "source": [
    "This file contains the code snippets that are introduced in the 'Application of the map() function' video. \n",
    "Follow along with the demonstration to: \n",
    "- change data types in a DataFrame\n",
    "- change a column heading in a DataFrame.\n",
    "\n",
    "Play and pause the video to follow along with the demonstration."
   ]
  },
  {
   "cell_type": "markdown",
   "id": "2571d2ab",
   "metadata": {},
   "source": [
    "### 1. Import pandas and create a DataFrame"
   ]
  },
  {
   "cell_type": "code",
   "execution_count": 1,
   "id": "050ac9bf",
   "metadata": {},
   "outputs": [
    {
     "name": "stdout",
     "output_type": "stream",
     "text": [
      "(675, 5)\n",
      "Index(['Student number', 'Surname', 'Initials', 'Final mark', 'Class'], dtype='object')\n",
      "Student number      int64\n",
      "Surname            object\n",
      "Initials           object\n",
      "Final mark        float64\n",
      "Class              object\n",
      "dtype: object\n"
     ]
    }
   ],
   "source": [
    "# Import Pandas.\n",
    "import pandas as pd\n",
    "\n",
    "# Read the CSV files from the current working directory.\n",
    "classlist_a = pd.read_csv('classlist_a.csv')\n",
    "classlist_b = pd.read_csv('classlist_b.csv')\n",
    "classlist_c = pd.read_csv('classlist_c.csv')\n",
    "classlist_d = pd.read_csv('classlist_d.csv')\n",
    "\n",
    "# Concatenate the four class lists.\n",
    "classlist = pd.concat([classlist_a, classlist_b, classlist_c, classlist_d])\n",
    "\n",
    "# View the new DataFrame.b\n",
    "print(classlist.shape)\n",
    "print(classlist.columns)\n",
    "print(classlist.dtypes)"
   ]
  },
  {
   "cell_type": "markdown",
   "id": "2a0ef24f",
   "metadata": {},
   "source": [
    "### 2. Change the values from strings to integers"
   ]
  },
  {
   "cell_type": "code",
   "execution_count": 2,
   "id": "62ca5449",
   "metadata": {},
   "outputs": [
    {
     "name": "stdout",
     "output_type": "stream",
     "text": [
      "(675, 6)\n"
     ]
    },
    {
     "data": {
      "text/html": [
       "<div>\n",
       "<style scoped>\n",
       "    .dataframe tbody tr th:only-of-type {\n",
       "        vertical-align: middle;\n",
       "    }\n",
       "\n",
       "    .dataframe tbody tr th {\n",
       "        vertical-align: top;\n",
       "    }\n",
       "\n",
       "    .dataframe thead th {\n",
       "        text-align: right;\n",
       "    }\n",
       "</style>\n",
       "<table border=\"1\" class=\"dataframe\">\n",
       "  <thead>\n",
       "    <tr style=\"text-align: right;\">\n",
       "      <th></th>\n",
       "      <th>Student number</th>\n",
       "      <th>Surname</th>\n",
       "      <th>Initials</th>\n",
       "      <th>Final mark</th>\n",
       "      <th>Class</th>\n",
       "      <th>Class_num</th>\n",
       "    </tr>\n",
       "  </thead>\n",
       "  <tbody>\n",
       "    <tr>\n",
       "      <th>0</th>\n",
       "      <td>15476227</td>\n",
       "      <td>AFONSO</td>\n",
       "      <td>L</td>\n",
       "      <td>47.72</td>\n",
       "      <td>E</td>\n",
       "      <td>1</td>\n",
       "    </tr>\n",
       "    <tr>\n",
       "      <th>1</th>\n",
       "      <td>15311279</td>\n",
       "      <td>ALBERTYN</td>\n",
       "      <td>F J H</td>\n",
       "      <td>57.52</td>\n",
       "      <td>A</td>\n",
       "      <td>0</td>\n",
       "    </tr>\n",
       "    <tr>\n",
       "      <th>2</th>\n",
       "      <td>15637913</td>\n",
       "      <td>ALEXANDER</td>\n",
       "      <td>L</td>\n",
       "      <td>90.68</td>\n",
       "      <td>E</td>\n",
       "      <td>1</td>\n",
       "    </tr>\n",
       "    <tr>\n",
       "      <th>3</th>\n",
       "      <td>15124150</td>\n",
       "      <td>BAM</td>\n",
       "      <td>A J</td>\n",
       "      <td>56.43</td>\n",
       "      <td>E</td>\n",
       "      <td>1</td>\n",
       "    </tr>\n",
       "    <tr>\n",
       "      <th>4</th>\n",
       "      <td>15829626</td>\n",
       "      <td>BARROW</td>\n",
       "      <td>S B</td>\n",
       "      <td>79.64</td>\n",
       "      <td>E</td>\n",
       "      <td>1</td>\n",
       "    </tr>\n",
       "  </tbody>\n",
       "</table>\n",
       "</div>"
      ],
      "text/plain": [
       "   Student number    Surname Initials  Final mark Class  Class_num\n",
       "0        15476227     AFONSO        L       47.72     E          1\n",
       "1        15311279   ALBERTYN    F J H       57.52     A          0\n",
       "2        15637913  ALEXANDER        L       90.68     E          1\n",
       "3        15124150        BAM      A J       56.43     E          1\n",
       "4        15829626     BARROW      S B       79.64     E          1"
      ]
     },
     "execution_count": 2,
     "metadata": {},
     "output_type": "execute_result"
    }
   ],
   "source": [
    "# Use the map() function only on a Pandas Series i.e. a single column.\n",
    "# Change the values from strings to integers.\n",
    "classlist['Class_num'] = classlist.Class.map({'A':0, 'E':1})\n",
    "\n",
    "# View the DataFrame.\n",
    "print(classlist.shape)\n",
    "classlist.head()"
   ]
  },
  {
   "cell_type": "markdown",
   "id": "7389de13",
   "metadata": {},
   "source": [
    "### 3. Compare the two class columns"
   ]
  },
  {
   "cell_type": "code",
   "execution_count": 3,
   "id": "734a2c46",
   "metadata": {},
   "outputs": [
    {
     "name": "stdout",
     "output_type": "stream",
     "text": [
      "    Class  Class_num\n",
      "0       E          1\n",
      "1       A          0\n",
      "2       E          1\n",
      "3       E          1\n",
      "4       E          1\n",
      "..    ...        ...\n",
      "214     E          1\n",
      "215     E          1\n",
      "216     A          0\n",
      "217     E          1\n",
      "218     E          1\n",
      "\n",
      "[675 rows x 2 columns]\n"
     ]
    },
    {
     "data": {
      "text/html": [
       "<div>\n",
       "<style scoped>\n",
       "    .dataframe tbody tr th:only-of-type {\n",
       "        vertical-align: middle;\n",
       "    }\n",
       "\n",
       "    .dataframe tbody tr th {\n",
       "        vertical-align: top;\n",
       "    }\n",
       "\n",
       "    .dataframe thead th {\n",
       "        text-align: right;\n",
       "    }\n",
       "</style>\n",
       "<table border=\"1\" class=\"dataframe\">\n",
       "  <thead>\n",
       "    <tr style=\"text-align: right;\">\n",
       "      <th></th>\n",
       "      <th>Class</th>\n",
       "      <th>Class_num</th>\n",
       "    </tr>\n",
       "  </thead>\n",
       "  <tbody>\n",
       "    <tr>\n",
       "      <th>0</th>\n",
       "      <td>E</td>\n",
       "      <td>1</td>\n",
       "    </tr>\n",
       "    <tr>\n",
       "      <th>1</th>\n",
       "      <td>A</td>\n",
       "      <td>0</td>\n",
       "    </tr>\n",
       "    <tr>\n",
       "      <th>2</th>\n",
       "      <td>E</td>\n",
       "      <td>1</td>\n",
       "    </tr>\n",
       "    <tr>\n",
       "      <th>3</th>\n",
       "      <td>E</td>\n",
       "      <td>1</td>\n",
       "    </tr>\n",
       "    <tr>\n",
       "      <th>4</th>\n",
       "      <td>E</td>\n",
       "      <td>1</td>\n",
       "    </tr>\n",
       "    <tr>\n",
       "      <th>...</th>\n",
       "      <td>...</td>\n",
       "      <td>...</td>\n",
       "    </tr>\n",
       "    <tr>\n",
       "      <th>214</th>\n",
       "      <td>E</td>\n",
       "      <td>1</td>\n",
       "    </tr>\n",
       "    <tr>\n",
       "      <th>215</th>\n",
       "      <td>E</td>\n",
       "      <td>1</td>\n",
       "    </tr>\n",
       "    <tr>\n",
       "      <th>216</th>\n",
       "      <td>A</td>\n",
       "      <td>0</td>\n",
       "    </tr>\n",
       "    <tr>\n",
       "      <th>217</th>\n",
       "      <td>E</td>\n",
       "      <td>1</td>\n",
       "    </tr>\n",
       "    <tr>\n",
       "      <th>218</th>\n",
       "      <td>E</td>\n",
       "      <td>1</td>\n",
       "    </tr>\n",
       "  </tbody>\n",
       "</table>\n",
       "<p>675 rows × 2 columns</p>\n",
       "</div>"
      ],
      "text/plain": [
       "    Class  Class_num\n",
       "0       E          1\n",
       "1       A          0\n",
       "2       E          1\n",
       "3       E          1\n",
       "4       E          1\n",
       "..    ...        ...\n",
       "214     E          1\n",
       "215     E          1\n",
       "216     A          0\n",
       "217     E          1\n",
       "218     E          1\n",
       "\n",
       "[675 rows x 2 columns]"
      ]
     },
     "execution_count": 3,
     "metadata": {},
     "output_type": "execute_result"
    }
   ],
   "source": [
    "# Compare the columns Class and Class_num with the loc() function.\n",
    "print(classlist.loc[:, ['Class', 'Class_num']])\n",
    "\n",
    "# Compare the columns Class and Class_num with the iloc() function.\n",
    "classlist.iloc[:, 4:6]"
   ]
  },
  {
   "cell_type": "markdown",
   "id": "731cac0f",
   "metadata": {},
   "source": [
    "### 4. Change the column heading"
   ]
  },
  {
   "cell_type": "code",
   "execution_count": 4,
   "id": "c969f27c",
   "metadata": {},
   "outputs": [
    {
     "data": {
      "text/html": [
       "<div>\n",
       "<style scoped>\n",
       "    .dataframe tbody tr th:only-of-type {\n",
       "        vertical-align: middle;\n",
       "    }\n",
       "\n",
       "    .dataframe tbody tr th {\n",
       "        vertical-align: top;\n",
       "    }\n",
       "\n",
       "    .dataframe thead th {\n",
       "        text-align: right;\n",
       "    }\n",
       "</style>\n",
       "<table border=\"1\" class=\"dataframe\">\n",
       "  <thead>\n",
       "    <tr style=\"text-align: right;\">\n",
       "      <th></th>\n",
       "      <th>Student number</th>\n",
       "      <th>Surname</th>\n",
       "      <th>Initials</th>\n",
       "      <th>Final_mark</th>\n",
       "      <th>Class</th>\n",
       "      <th>Class_num</th>\n",
       "    </tr>\n",
       "  </thead>\n",
       "  <tbody>\n",
       "    <tr>\n",
       "      <th>0</th>\n",
       "      <td>15476227</td>\n",
       "      <td>AFONSO</td>\n",
       "      <td>L</td>\n",
       "      <td>47.72</td>\n",
       "      <td>E</td>\n",
       "      <td>1</td>\n",
       "    </tr>\n",
       "    <tr>\n",
       "      <th>1</th>\n",
       "      <td>15311279</td>\n",
       "      <td>ALBERTYN</td>\n",
       "      <td>F J H</td>\n",
       "      <td>57.52</td>\n",
       "      <td>A</td>\n",
       "      <td>0</td>\n",
       "    </tr>\n",
       "    <tr>\n",
       "      <th>2</th>\n",
       "      <td>15637913</td>\n",
       "      <td>ALEXANDER</td>\n",
       "      <td>L</td>\n",
       "      <td>90.68</td>\n",
       "      <td>E</td>\n",
       "      <td>1</td>\n",
       "    </tr>\n",
       "    <tr>\n",
       "      <th>3</th>\n",
       "      <td>15124150</td>\n",
       "      <td>BAM</td>\n",
       "      <td>A J</td>\n",
       "      <td>56.43</td>\n",
       "      <td>E</td>\n",
       "      <td>1</td>\n",
       "    </tr>\n",
       "    <tr>\n",
       "      <th>4</th>\n",
       "      <td>15829626</td>\n",
       "      <td>BARROW</td>\n",
       "      <td>S B</td>\n",
       "      <td>79.64</td>\n",
       "      <td>E</td>\n",
       "      <td>1</td>\n",
       "    </tr>\n",
       "  </tbody>\n",
       "</table>\n",
       "</div>"
      ],
      "text/plain": [
       "   Student number    Surname Initials  Final_mark Class  Class_num\n",
       "0        15476227     AFONSO        L       47.72     E          1\n",
       "1        15311279   ALBERTYN    F J H       57.52     A          0\n",
       "2        15637913  ALEXANDER        L       90.68     E          1\n",
       "3        15124150        BAM      A J       56.43     E          1\n",
       "4        15829626     BARROW      S B       79.64     E          1"
      ]
     },
     "execution_count": 4,
     "metadata": {},
     "output_type": "execute_result"
    }
   ],
   "source": [
    "classlist_final = classlist.rename(columns={'Final mark':'Final_mark'})\n",
    "\n",
    "classlist_final.head()"
   ]
  },
  {
   "cell_type": "code",
   "execution_count": null,
   "id": "15178a67",
   "metadata": {},
   "outputs": [],
   "source": []
  }
 ],
 "metadata": {
  "kernelspec": {
   "display_name": "Python 3 (ipykernel)",
   "language": "python",
   "name": "python3"
  },
  "language_info": {
   "codemirror_mode": {
    "name": "ipython",
    "version": 3
   },
   "file_extension": ".py",
   "mimetype": "text/x-python",
   "name": "python",
   "nbconvert_exporter": "python",
   "pygments_lexer": "ipython3",
   "version": "3.9.13"
  }
 },
 "nbformat": 4,
 "nbformat_minor": 5
}
