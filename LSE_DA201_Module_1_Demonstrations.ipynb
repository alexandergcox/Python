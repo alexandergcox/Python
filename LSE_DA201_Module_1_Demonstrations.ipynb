{
 "cells": [
  {
   "cell_type": "markdown",
   "id": "b9a3ec7a",
   "metadata": {},
   "source": [
    "### LSE Data Analytics Online Career Accelerator \n",
    "\n",
    "# DA201:  Data Analytics using Python"
   ]
  },
  {
   "cell_type": "markdown",
   "id": "1dbdb90d",
   "metadata": {},
   "source": [
    "## Week 1: Introduction to Python programming!"
   ]
  },
  {
   "cell_type": "markdown",
   "id": "a24170c4",
   "metadata": {},
   "source": [
    "The focus this week is on introducing, setting up, and exploring Python. You will use this notebook to follow along with the demonstrations throughout the week. If you are using Jupyter Notebook for the first time, please refer to the documentation to lear about the interface and how best to use your notebook. \n",
    "\n",
    "Learn about using your Jupyter Notebook here: https://jupyter-notebook.readthedocs.io/en/latest/ui_components.html\n",
    "\n",
    "This is your notebook. Use it to follow along with the demonstrations, test ideas and explore what is possible. The hands-on experience of writing your own code will accelerate your learning!"
   ]
  },
  {
   "cell_type": "markdown",
   "id": "11cfebf7",
   "metadata": {},
   "source": [
    "### 1.1 Python for data analysis "
   ]
  },
  {
   "cell_type": "markdown",
   "id": "f04b9be3",
   "metadata": {},
   "source": [
    "There are no Jupyter Notebook demonstrations in this section."
   ]
  },
  {
   "cell_type": "markdown",
   "id": "ca098172",
   "metadata": {},
   "source": [
    "# "
   ]
  },
  {
   "cell_type": "markdown",
   "id": "4dd362eb",
   "metadata": {},
   "source": [
    "### 1.2 Basics of Python programming"
   ]
  },
  {
   "cell_type": "code",
   "execution_count": 1,
   "id": "05c6b44b",
   "metadata": {},
   "outputs": [
    {
     "name": "stdout",
     "output_type": "stream",
     "text": [
      "<class 'str'>\n",
      "<class 'str'>\n"
     ]
    }
   ],
   "source": [
    "#string data type\n",
    "a= \"This is a string value\"\n",
    "b='This is a string value'\n",
    "\n",
    "print(type(a))\n",
    "print(type(b))"
   ]
  },
  {
   "cell_type": "code",
   "execution_count": 1,
   "id": "2c4f7285",
   "metadata": {},
   "outputs": [
    {
     "name": "stdout",
     "output_type": "stream",
     "text": [
      "<class 'int'>\n",
      "<class 'float'>\n"
     ]
    }
   ],
   "source": [
    "#Integer vs float data types\n",
    "value_a = 1299\n",
    "value_b = 10.39\n",
    "\n",
    "print(type(value_a))\n",
    "print(type(value_b))"
   ]
  },
  {
   "cell_type": "code",
   "execution_count": null,
   "id": "452c5e40",
   "metadata": {},
   "outputs": [],
   "source": []
  },
  {
   "cell_type": "code",
   "execution_count": 2,
   "id": "ca05fefd",
   "metadata": {},
   "outputs": [
    {
     "ename": "SyntaxError",
     "evalue": "invalid syntax (321501699.py, line 2)",
     "output_type": "error",
     "traceback": [
      "\u001b[1;36m  File \u001b[1;32m\"C:\\Users\\alexc_dra7fx5\\AppData\\Local\\Temp\\ipykernel_12004\\321501699.py\"\u001b[1;36m, line \u001b[1;32m2\u001b[0m\n\u001b[1;33m    a= This is a string value\u001b[0m\n\u001b[1;37m                 ^\u001b[0m\n\u001b[1;31mSyntaxError\u001b[0m\u001b[1;31m:\u001b[0m invalid syntax\n"
     ]
    }
   ],
   "source": [
    "#string data type\n",
    "a= This is a string value\n",
    "b=This is a string value\n",
    "\n",
    "print(type(a))\n",
    "print(type(b))"
   ]
  },
  {
   "cell_type": "code",
   "execution_count": 3,
   "id": "8bad439a",
   "metadata": {},
   "outputs": [
    {
     "name": "stdout",
     "output_type": "stream",
     "text": [
      "<class 'bool'>\n",
      "<class 'bool'>\n"
     ]
    }
   ],
   "source": [
    "#boolean data type\n",
    "a= True\n",
    "b= False\n",
    "\n",
    "print(type(a))\n",
    "print(type(b))"
   ]
  },
  {
   "cell_type": "code",
   "execution_count": 4,
   "id": "d7d90343",
   "metadata": {},
   "outputs": [
    {
     "name": "stdout",
     "output_type": "stream",
     "text": [
      "300\n"
     ]
    }
   ],
   "source": [
    "#create a variable\n",
    "n = 300\n",
    "#view the variable with the print() function\n",
    "print(n)"
   ]
  },
  {
   "cell_type": "code",
   "execution_count": 5,
   "id": "07198d41",
   "metadata": {},
   "outputs": [
    {
     "name": "stdout",
     "output_type": "stream",
     "text": [
      "100 100.05 Soni\n"
     ]
    }
   ],
   "source": [
    "#create three variable\n",
    "var_a = 100\n",
    "var_b = 100.05\n",
    "name = 'Soni'\n",
    "\n",
    "print (var_a, var_b, name)"
   ]
  },
  {
   "cell_type": "code",
   "execution_count": 6,
   "id": "36fd6c83",
   "metadata": {},
   "outputs": [
    {
     "name": "stdout",
     "output_type": "stream",
     "text": [
      "50\n",
      "50\n",
      "50\n",
      "50 50 50\n"
     ]
    }
   ],
   "source": [
    "# Assign three variable with the same value\n",
    "\n",
    "a = b = c = 50\n",
    "\n",
    "print(a)\n",
    "print(b)\n",
    "print(c)\n",
    "print(a,b,c)\n"
   ]
  },
  {
   "cell_type": "markdown",
   "id": "19a75485",
   "metadata": {},
   "source": [
    "# "
   ]
  },
  {
   "cell_type": "code",
   "execution_count": 7,
   "id": "4a85b5b3",
   "metadata": {},
   "outputs": [
    {
     "name": "stdout",
     "output_type": "stream",
     "text": [
      "50\n",
      "50\n",
      "50 50 50\n"
     ]
    },
    {
     "ename": "TypeError",
     "evalue": "cannot unpack non-iterable int object",
     "output_type": "error",
     "traceback": [
      "\u001b[1;31m---------------------------------------------------------------------------\u001b[0m",
      "\u001b[1;31mTypeError\u001b[0m                                 Traceback (most recent call last)",
      "\u001b[1;32m~\\AppData\\Local\\Temp\\ipykernel_12004\\2240513662.py\u001b[0m in \u001b[0;36m<module>\u001b[1;34m\u001b[0m\n\u001b[0;32m      7\u001b[0m \u001b[1;33m\u001b[0m\u001b[0m\n\u001b[0;32m      8\u001b[0m \u001b[1;31m#stipulate a single value.\u001b[0m\u001b[1;33m\u001b[0m\u001b[1;33m\u001b[0m\u001b[0m\n\u001b[1;32m----> 9\u001b[1;33m \u001b[0ma\u001b[0m\u001b[1;33m,\u001b[0m \u001b[0mb\u001b[0m\u001b[1;33m,\u001b[0m \u001b[0mc\u001b[0m \u001b[1;33m=\u001b[0m \u001b[1;36m50\u001b[0m\u001b[1;33m\u001b[0m\u001b[1;33m\u001b[0m\u001b[0m\n\u001b[0m\u001b[0;32m     10\u001b[0m \u001b[1;33m\u001b[0m\u001b[0m\n\u001b[0;32m     11\u001b[0m \u001b[0mprint\u001b[0m\u001b[1;33m(\u001b[0m\u001b[0ma\u001b[0m\u001b[1;33m,\u001b[0m\u001b[0mb\u001b[0m\u001b[1;33m,\u001b[0m\u001b[0mc\u001b[0m\u001b[1;33m)\u001b[0m\u001b[1;33m\u001b[0m\u001b[1;33m\u001b[0m\u001b[0m\n",
      "\u001b[1;31mTypeError\u001b[0m: cannot unpack non-iterable int object"
     ]
    }
   ],
   "source": [
    "#Assign multiple values to multiple variables\n",
    "a, b, c = 50, 50, 50\n",
    "\n",
    "print(a)\n",
    "print(b)\n",
    "print(a, b, c)\n",
    "\n",
    "#stipulate a single value.\n",
    "a, b, c = 50\n",
    "\n",
    "print(a,b,c)"
   ]
  },
  {
   "cell_type": "code",
   "execution_count": 8,
   "id": "a55e8b63",
   "metadata": {},
   "outputs": [
    {
     "name": "stdout",
     "output_type": "stream",
     "text": [
      "5 50.25 Python\n",
      "5\n",
      "50.25\n",
      "Python\n"
     ]
    }
   ],
   "source": [
    "# Multiple variables with different values and data types.\n",
    "a, b, c = 5, 50.25, \"Python\"\n",
    "print(a, b, c)\n",
    "print(a)\n",
    "print(b)\n",
    "print(c)"
   ]
  },
  {
   "cell_type": "code",
   "execution_count": 9,
   "id": "b7816966",
   "metadata": {},
   "outputs": [
    {
     "name": "stdout",
     "output_type": "stream",
     "text": [
      "['False', 'None', 'True', '__peg_parser__', 'and', 'as', 'assert', 'async', 'await', 'break', 'class', 'continue', 'def', 'del', 'elif', 'else', 'except', 'finally', 'for', 'from', 'global', 'if', 'import', 'in', 'is', 'lambda', 'nonlocal', 'not', 'or', 'pass', 'raise', 'return', 'try', 'while', 'with', 'yield']\n"
     ]
    }
   ],
   "source": [
    "# View the list of keywords.\n",
    "import keyword\n",
    "print(keyword.kwlist)"
   ]
  },
  {
   "cell_type": "code",
   "execution_count": 10,
   "id": "bfb25744",
   "metadata": {},
   "outputs": [
    {
     "name": "stdout",
     "output_type": "stream",
     "text": [
      "luke skywalker\n",
      "luke skywalker\n",
      "luke skywalker\n",
      "luke skywalker luke skywalker luke skywalker\n"
     ]
    }
   ],
   "source": [
    "# create three variable\n",
    "\n",
    "jedi = warrior = saviour = 'luke skywalker'\n",
    "print(jedi)\n",
    "\n",
    "print(warrior)\n",
    "print(saviour)\n",
    "print(jedi, warrior, saviour)\n"
   ]
  },
  {
   "cell_type": "code",
   "execution_count": 2,
   "id": "ce993954",
   "metadata": {},
   "outputs": [
    {
     "name": "stdout",
     "output_type": "stream",
     "text": [
      "Darth Vader\n",
      "Darth Vader\n",
      "Darth Vader\n",
      "Darth Vader Darth Vader Darth Vader\n"
     ]
    }
   ],
   "source": [
    "#create three variable for a name and create a tuple\n",
    "\n",
    "a = b = c = 'Darth Vader'\n",
    "print(a)\n",
    "print(b)\n",
    "print(c)\n",
    "print(a,b,c)"
   ]
  },
  {
   "cell_type": "code",
   "execution_count": 3,
   "id": "aee06729",
   "metadata": {},
   "outputs": [
    {
     "name": "stdout",
     "output_type": "stream",
     "text": [
      "Regina\n",
      "Hawaiian\n",
      "Mexican\n",
      "Margarita\n",
      "Marinara\n"
     ]
    }
   ],
   "source": [
    "#create a list with all pizza names\n",
    "pizza = ['Regina', 'Hawaiian', 'Mexican', 'Margarita', 'Marinara']\n",
    "\n",
    "#print all the pizza names\n",
    "for i in pizza:\n",
    "    print(i)\n"
   ]
  },
  {
   "cell_type": "code",
   "execution_count": 4,
   "id": "50051862",
   "metadata": {},
   "outputs": [
    {
     "name": "stdout",
     "output_type": "stream",
     "text": [
      "hello world\n"
     ]
    }
   ],
   "source": [
    "#creating a block comment\n",
    "\n",
    "#comment line 1\n",
    "#comment line 2\n",
    "#comment line 3\n",
    "\n",
    "print(\"hello world\")\n"
   ]
  },
  {
   "cell_type": "code",
   "execution_count": 5,
   "id": "4eec12a6",
   "metadata": {},
   "outputs": [
    {
     "data": {
      "text/plain": [
       "' This is the method of writing comments inside triple quotations.\\nAny lines between these triple quotations are treated as comments. '"
      ]
     },
     "execution_count": 5,
     "metadata": {},
     "output_type": "execute_result"
    }
   ],
   "source": [
    "\"\"\" This is the method of writing comments inside triple quotations.\n",
    "Any lines between these triple quotations are treated as comments. \"\"\"\n"
   ]
  },
  {
   "cell_type": "code",
   "execution_count": null,
   "id": "0c6a4031",
   "metadata": {},
   "outputs": [],
   "source": [
    "#Assigning a sales tax of 20% at the end of the year\n",
    "companytax20 = 1.20\n",
    "\n",
    "#Assigning a sales tax of 30% at the end of the year\n",
    "companytax30 = 1.30"
   ]
  },
  {
   "cell_type": "code",
   "execution_count": null,
   "id": "29a67834",
   "metadata": {},
   "outputs": [],
   "source": [
    "#accounts for travel time\n",
    "traveltime *= 2.5"
   ]
  },
  {
   "cell_type": "code",
   "execution_count": null,
   "id": "1fdff229",
   "metadata": {},
   "outputs": [],
   "source": [
    "# Switch turns to other player.\n",
    "if playerTurn == PLAYER_X:\n",
    "    playerTurn = PLAYER_O\n",
    "elif playerTurn == PLAYER_O:\n",
    "    playerTurn = PLAYER_X"
   ]
  },
  {
   "cell_type": "code",
   "execution_count": null,
   "id": "a5fdb5ed",
   "metadata": {},
   "outputs": [],
   "source": [
    "# Keep asking the user until they enter a valid email.\n",
    "while True:   "
   ]
  },
  {
   "cell_type": "code",
   "execution_count": null,
   "id": "539d89ae",
   "metadata": {},
   "outputs": [],
   "source": [
    "\"\"\" Cat Herder 3.0 Copyright (C) 2022 AI Master. All rights reserved.\n",
    "See license.txt for the full details. \"\"\""
   ]
  },
  {
   "cell_type": "code",
   "execution_count": null,
   "id": "ada226e2",
   "metadata": {},
   "outputs": [],
   "source": [
    "# TODO : Investigate why this fails every Tuesday.\n",
    "chargeIonFluxStream() "
   ]
  },
  {
   "cell_type": "code",
   "execution_count": null,
   "id": "393e8a99",
   "metadata": {},
   "outputs": [],
   "source": [
    "# !/usr/bin/env python3 \n",
    "# -*- coding: utf-8 -*-"
   ]
  },
  {
   "cell_type": "code",
   "execution_count": 6,
   "id": "ed74d4cb",
   "metadata": {},
   "outputs": [
    {
     "name": "stdout",
     "output_type": "stream",
     "text": [
      "10\n"
     ]
    }
   ],
   "source": [
    "#demonstrating the = operator\n",
    "a = 10\n",
    "print (a)"
   ]
  },
  {
   "cell_type": "code",
   "execution_count": 7,
   "id": "bc704031",
   "metadata": {},
   "outputs": [
    {
     "name": "stdout",
     "output_type": "stream",
     "text": [
      "15\n"
     ]
    }
   ],
   "source": [
    "#demonstrating the + operator.\n",
    "# Adds the right operand to the left operand\n",
    "\n",
    "a = 10\n",
    "a +=5\n",
    "print(a)"
   ]
  },
  {
   "cell_type": "code",
   "execution_count": 8,
   "id": "d305695e",
   "metadata": {},
   "outputs": [
    {
     "name": "stdout",
     "output_type": "stream",
     "text": [
      "5\n"
     ]
    }
   ],
   "source": [
    "#demonstrating the - operator.\n",
    "a = 10\n",
    "a -= 5\n",
    "\n",
    "print(a)"
   ]
  },
  {
   "cell_type": "code",
   "execution_count": 9,
   "id": "9e491972",
   "metadata": {},
   "outputs": [
    {
     "name": "stdout",
     "output_type": "stream",
     "text": [
      "50\n"
     ]
    }
   ],
   "source": [
    "#demonstrating the * operator.\n",
    "a = 10\n",
    "a *= 5\n",
    "\n",
    "print(a)"
   ]
  },
  {
   "cell_type": "code",
   "execution_count": 10,
   "id": "eb60c9d2",
   "metadata": {},
   "outputs": [
    {
     "name": "stdout",
     "output_type": "stream",
     "text": [
      "2.0\n"
     ]
    }
   ],
   "source": [
    "#demonstrating the / operator \n",
    "a = 10\n",
    "a /=5\n",
    "\n",
    "print(a)"
   ]
  },
  {
   "cell_type": "code",
   "execution_count": 11,
   "id": "0788c8f5",
   "metadata": {},
   "outputs": [
    {
     "name": "stdout",
     "output_type": "stream",
     "text": [
      "0\n"
     ]
    }
   ],
   "source": [
    "#demonstrating the % operator\n",
    "a = 10\n",
    "a %=5\n",
    "\n",
    "print(a)"
   ]
  },
  {
   "cell_type": "code",
   "execution_count": 12,
   "id": "18724844",
   "metadata": {},
   "outputs": [
    {
     "name": "stdout",
     "output_type": "stream",
     "text": [
      "100\n"
     ]
    }
   ],
   "source": [
    "#demonstrating the ** operator\n",
    "a = 10\n",
    "a **= 2\n",
    "\n",
    "print(a)"
   ]
  },
  {
   "cell_type": "code",
   "execution_count": 13,
   "id": "10cae3b4",
   "metadata": {},
   "outputs": [
    {
     "name": "stdout",
     "output_type": "stream",
     "text": [
      "2\n"
     ]
    }
   ],
   "source": [
    "#demonstrating the // operator\n",
    "a = 10\n",
    "a //=5\n",
    "\n",
    "print(a)"
   ]
  },
  {
   "cell_type": "code",
   "execution_count": 14,
   "id": "6c31f386",
   "metadata": {},
   "outputs": [
    {
     "name": "stdout",
     "output_type": "stream",
     "text": [
      "15\n"
     ]
    }
   ],
   "source": [
    "#demonstrating the + operator\n",
    "a = 10\n",
    "b = 5\n",
    "\n",
    "print(a + b)"
   ]
  },
  {
   "cell_type": "code",
   "execution_count": 15,
   "id": "2a740857",
   "metadata": {},
   "outputs": [
    {
     "name": "stdout",
     "output_type": "stream",
     "text": [
      "5\n"
     ]
    }
   ],
   "source": [
    "#demonstrating the - operator\n",
    "a = 10\n",
    "b = 5\n",
    "\n",
    "print(a - b)"
   ]
  },
  {
   "cell_type": "code",
   "execution_count": 16,
   "id": "d7ba2f47",
   "metadata": {},
   "outputs": [
    {
     "name": "stdout",
     "output_type": "stream",
     "text": [
      "50\n"
     ]
    }
   ],
   "source": [
    "#demonstrating the * operator\n",
    "a = 10\n",
    "b = 5\n",
    "\n",
    "print(a * b)"
   ]
  },
  {
   "cell_type": "code",
   "execution_count": 17,
   "id": "db253869",
   "metadata": {},
   "outputs": [
    {
     "name": "stdout",
     "output_type": "stream",
     "text": [
      "2.0\n"
     ]
    }
   ],
   "source": [
    "#demonstrating the / operator\n",
    "a = 10\n",
    "b = 5\n",
    "\n",
    "print(a / b)"
   ]
  },
  {
   "cell_type": "code",
   "execution_count": 18,
   "id": "eda1a13a",
   "metadata": {},
   "outputs": [
    {
     "name": "stdout",
     "output_type": "stream",
     "text": [
      "0\n"
     ]
    }
   ],
   "source": [
    "#demonstrating the modulus operator\n",
    "a = 10\n",
    "b = 5\n",
    "\n",
    "print(a % b)"
   ]
  },
  {
   "cell_type": "code",
   "execution_count": 19,
   "id": "c9c69183",
   "metadata": {},
   "outputs": [
    {
     "name": "stdout",
     "output_type": "stream",
     "text": [
      "81\n"
     ]
    }
   ],
   "source": [
    "#demonstrating the exponent operator\n",
    "a = 9 \n",
    "\n",
    "print(a ** 2)"
   ]
  },
  {
   "cell_type": "code",
   "execution_count": 20,
   "id": "85dd4a3b",
   "metadata": {},
   "outputs": [
    {
     "name": "stdout",
     "output_type": "stream",
     "text": [
      "True\n"
     ]
    }
   ],
   "source": [
    "#demonstrating the == operator\n",
    "a = 10\n",
    "b = 10\n",
    "\n",
    "print(a == b)"
   ]
  },
  {
   "cell_type": "code",
   "execution_count": 21,
   "id": "1b3cb7ba",
   "metadata": {},
   "outputs": [
    {
     "name": "stdout",
     "output_type": "stream",
     "text": [
      "False\n"
     ]
    }
   ],
   "source": [
    "#demonstrating the not equal operator\n",
    "a = 10\n",
    "b = 10\n",
    "\n",
    "print(a != b)"
   ]
  },
  {
   "cell_type": "code",
   "execution_count": 22,
   "id": "af9ad0d6",
   "metadata": {},
   "outputs": [
    {
     "name": "stdout",
     "output_type": "stream",
     "text": [
      "True\n"
     ]
    }
   ],
   "source": [
    "#demonstraing the > operator\n",
    "a = 10\n",
    "b = 5\n",
    "\n",
    "print(a > b)"
   ]
  },
  {
   "cell_type": "code",
   "execution_count": 23,
   "id": "c8456943",
   "metadata": {},
   "outputs": [
    {
     "name": "stdout",
     "output_type": "stream",
     "text": [
      "False\n"
     ]
    }
   ],
   "source": [
    "#demonstrating the < operator\n",
    "a = 10\n",
    "b = 5\n",
    "\n",
    "print  (a < b)"
   ]
  },
  {
   "cell_type": "code",
   "execution_count": 24,
   "id": "fa412a27",
   "metadata": {},
   "outputs": [
    {
     "name": "stdout",
     "output_type": "stream",
     "text": [
      "True\n"
     ]
    }
   ],
   "source": [
    "#demonstrating the greater or equal to operator \n",
    "a = 10\n",
    "b = 5\n",
    "\n",
    "print(a >= b )"
   ]
  },
  {
   "cell_type": "code",
   "execution_count": 25,
   "id": "da729e71",
   "metadata": {},
   "outputs": [
    {
     "name": "stdout",
     "output_type": "stream",
     "text": [
      "False\n"
     ]
    }
   ],
   "source": [
    "#demonstrating the <= operator.\n",
    "a = 10\n",
    "b = 5\n",
    "\n",
    "print(a <= b)"
   ]
  },
  {
   "cell_type": "code",
   "execution_count": null,
   "id": "b591ecf8",
   "metadata": {},
   "outputs": [],
   "source": [
    "#here is the syntax to define a function.\n",
    "#The indented statements are the reusable portion.\n",
    "#Defining a function doesn't use the function.\n",
    "#Notice the colon.\n",
    "def function_name (optional arguments or parameters):\n",
    "    #use four spaces to indent each level of the function code.\n",
    "    statement_1\n",
    "    statement_2\n",
    "    statement_3\n",
    "    \n",
    "#To use a function, we have to call it using a function call.\n",
    "#A function call is performed using the functions name and parentheses().\n",
    "#If any arguments or parameters are required these will sit in the paretheses().\n",
    "\n",
    "\n",
    "function_name()\n",
    "# This will run all the statements you have defined in the function.\n",
    "# This single line of code - the function name and arguments - will run\n",
    "# All the statements in the function.\n"
   ]
  },
  {
   "cell_type": "code",
   "execution_count": 26,
   "id": "3bc689ab",
   "metadata": {},
   "outputs": [
    {
     "name": "stdout",
     "output_type": "stream",
     "text": [
      "Hello and welcome to the programme\n"
     ]
    }
   ],
   "source": [
    "# Define a function to welcome new members to the programme.\n",
    "# No arguments in the parethesis, include the colon.\n",
    "\n",
    "def new_member():\n",
    "    #The function code statement.\n",
    "    print(\"Hello and welcome to the programme\")\n",
    "    \n",
    "#call the function.\n",
    "new_member()\n"
   ]
  },
  {
   "cell_type": "code",
   "execution_count": 27,
   "id": "c930e635",
   "metadata": {},
   "outputs": [
    {
     "name": "stdout",
     "output_type": "stream",
     "text": [
      "Hello and welcome to the programme\n"
     ]
    },
    {
     "data": {
      "text/plain": [
       "True"
      ]
     },
     "execution_count": 27,
     "metadata": {},
     "output_type": "execute_result"
    }
   ],
   "source": [
    "# Define an output variable\n",
    "output = new_member()\n",
    "\n",
    "# Check if the function returns a value.\n",
    "output is None"
   ]
  },
  {
   "cell_type": "code",
   "execution_count": 28,
   "id": "3efa6189",
   "metadata": {},
   "outputs": [
    {
     "data": {
      "text/plain": [
       "False"
      ]
     },
     "execution_count": 28,
     "metadata": {},
     "output_type": "execute_result"
    }
   ],
   "source": [
    "# Assign the function output to a variable.\n",
    "# Function must return explicitly.\n",
    "def new_member():\n",
    "    return \"Hello and welcome to the programme\"\n",
    "\n",
    "# Define an output variable.\n",
    "output = new_member()\n",
    "\n",
    "# Check if the function returns a value.\n",
    "output is None"
   ]
  },
  {
   "cell_type": "code",
   "execution_count": 29,
   "id": "b132f2b7",
   "metadata": {},
   "outputs": [
    {
     "name": "stdout",
     "output_type": "stream",
     "text": [
      "Hello and welcome to the program, Sarah!\n"
     ]
    }
   ],
   "source": [
    "# Example using f string interpolation.\n",
    "def new_member(name):\n",
    "    # Notice the \"f\".\n",
    "    return f\"Hello and welcome to the program, {name}!\"\n",
    "\n",
    "# The print function allows you to easily preview the output.\n",
    "print(new_member('Sarah'))"
   ]
  },
  {
   "cell_type": "code",
   "execution_count": 30,
   "id": "7e1be549",
   "metadata": {},
   "outputs": [
    {
     "name": "stdout",
     "output_type": "stream",
     "text": [
      "Hello and welcome to the program, Sarah!\n"
     ]
    }
   ],
   "source": [
    "#Alternative line for the previous example\n",
    "def new_member(name):\n",
    "    # Note the space before closing the quotation mark after.\n",
    "    return \"Hello and welcome to the program, \" + name + '!'\n",
    "\n",
    "#The print function allows you to easily preview the output.\n",
    "print(new_member('Sarah'))"
   ]
  },
  {
   "cell_type": "code",
   "execution_count": 31,
   "id": "763d67bc",
   "metadata": {},
   "outputs": [
    {
     "ename": "SyntaxError",
     "evalue": "invalid syntax (3891557089.py, line 6)",
     "output_type": "error",
     "traceback": [
      "\u001b[1;36m  File \u001b[1;32m\"C:\\Users\\alexc_dra7fx5\\AppData\\Local\\Temp\\ipykernel_12212\\3891557089.py\"\u001b[1;36m, line \u001b[1;32m6\u001b[0m\n\u001b[1;33m    print(new_member('Sarah, 'Josh', 'Rae'))\u001b[0m\n\u001b[1;37m                              ^\u001b[0m\n\u001b[1;31mSyntaxError\u001b[0m\u001b[1;31m:\u001b[0m invalid syntax\n"
     ]
    }
   ],
   "source": [
    "# Example of providing incorrect arguments.\n",
    "def new_member(name):\n",
    "    #Alternative line for the previous example\n",
    "    return \"Hello and welcome to the program, \" + name + '!'\n",
    "\n",
    "print(new_member('Sarah, 'Josh', 'Rae'))"
   ]
  },
  {
   "cell_type": "code",
   "execution_count": 33,
   "id": "08e72c77",
   "metadata": {},
   "outputs": [
    {
     "data": {
      "text/plain": [
       "11"
      ]
     },
     "execution_count": 33,
     "metadata": {},
     "output_type": "execute_result"
    }
   ],
   "source": [
    "# Example of adding two positional arguments.\n",
    "def add_optional_bonus(a, b, c=0, d=0):\n",
    "    return a + b + c + d\n",
    "\n",
    "add_optional_bonus(5,6)"
   ]
  },
  {
   "cell_type": "code",
   "execution_count": 34,
   "id": "82686c52",
   "metadata": {},
   "outputs": [
    {
     "data": {
      "text/plain": [
       "16"
      ]
     },
     "execution_count": 34,
     "metadata": {},
     "output_type": "execute_result"
    }
   ],
   "source": [
    "# Example of adding two positional arguments and a keyword argument.\n",
    "def add_optional_bonus(a, b, c=0, d=0):\n",
    "    return a + b + c + d\n",
    "\n",
    "# Include the keyword c\n",
    "add_optional_bonus(5, 6, c=5)"
   ]
  },
  {
   "cell_type": "code",
   "execution_count": 35,
   "id": "136e922c",
   "metadata": {},
   "outputs": [
    {
     "data": {
      "text/plain": [
       "17"
      ]
     },
     "execution_count": 35,
     "metadata": {},
     "output_type": "execute_result"
    }
   ],
   "source": [
    "# Example of adding two positional arguments and a keyword argument out of sequence.\n",
    "def add_optional_bonus (a,b, c=0, d=0):\n",
    "    return a + b + c + d\n",
    "\n",
    "# Including the keyword d\n",
    "add_optional_bonus(5, 6, d=6)\n"
   ]
  },
  {
   "cell_type": "code",
   "execution_count": 36,
   "id": "939acad8",
   "metadata": {},
   "outputs": [
    {
     "data": {
      "text/plain": [
       "22"
      ]
     },
     "execution_count": 36,
     "metadata": {},
     "output_type": "execute_result"
    }
   ],
   "source": [
    "# Example of adding two positional arguments and multiple keyword arguments.\n",
    "def add_optional_bonus(a, b, c=0, d=0):\n",
    "    return a + b + c + d \n",
    "\n",
    "#Including both d and c (out of sequence).\n",
    "add_optional_bonus (5, 6, d=6, c=5)"
   ]
  },
  {
   "cell_type": "code",
   "execution_count": 37,
   "id": "c30914a7",
   "metadata": {},
   "outputs": [
    {
     "ename": "SyntaxError",
     "evalue": "positional argument follows keyword argument (3807342701.py, line 6)",
     "output_type": "error",
     "traceback": [
      "\u001b[1;36m  File \u001b[1;32m\"C:\\Users\\alexc_dra7fx5\\AppData\\Local\\Temp\\ipykernel_12212\\3807342701.py\"\u001b[1;36m, line \u001b[1;32m6\u001b[0m\n\u001b[1;33m    add_optional_bonus(d=6, c=5, 5, 6)\u001b[0m\n\u001b[1;37m                                     ^\u001b[0m\n\u001b[1;31mSyntaxError\u001b[0m\u001b[1;31m:\u001b[0m positional argument follows keyword argument\n"
     ]
    }
   ],
   "source": [
    "# Keyword arguments must follow positional arguments.\n",
    "def add_optional_bonus (a, b, c=0, d=0):\n",
    "    return a + b + c + d\n",
    "\n",
    "#Including d and c\n",
    "add_optional_bonus(d=6, c=5, 5, 6)"
   ]
  },
  {
   "cell_type": "code",
   "execution_count": 41,
   "id": "656a4642",
   "metadata": {},
   "outputs": [
    {
     "name": "stdout",
     "output_type": "stream",
     "text": [
      "6 7 8\n"
     ]
    }
   ],
   "source": [
    "# Returning multiple values\n",
    "def membership_number(x):\n",
    "    a = x + 1\n",
    "    b = x + 2\n",
    "    c = x + 3\n",
    "    return a, b, c\n",
    "    \n",
    "# To show the membership numbers\n",
    "x, y, z = membership_number(5)\n",
    "\n",
    "print(x, y, z)"
   ]
  },
  {
   "cell_type": "code",
   "execution_count": 43,
   "id": "1d46026d",
   "metadata": {},
   "outputs": [
    {
     "name": "stdout",
     "output_type": "stream",
     "text": [
      "Total weekly workout time is 40minutes.\n",
      "Total weekly workout time is 3.0hours.\n"
     ]
    }
   ],
   "source": [
    "# Using the * for a variable argument.\n",
    "def workout_time(*reported):\n",
    "    total_minutes = sum(reported)\n",
    "    if total_minutes < 60:\n",
    "        return f\"Total weekly workout time is {total_minutes}minutes.\"\n",
    "    else:return f\"Total weekly workout time is {total_minutes/60}hours.\"\n",
    "        \n",
    "# The function passes any number of minutes.\n",
    "print(workout_time(10, 10, 20))\n",
    "\n",
    "# The function passes any number of minutes.\n",
    "print(workout_time(60, 60, 20, 40))"
   ]
  },
  {
   "cell_type": "code",
   "execution_count": 45,
   "id": "137f9a7f",
   "metadata": {},
   "outputs": [
    {
     "name": "stdout",
     "output_type": "stream",
     "text": [
      "['Python', 'Java', 'Ruby']\n"
     ]
    }
   ],
   "source": [
    "# Example of creating a list\n",
    "# Notice the square brackets\n",
    "\n",
    "new_list = ['Python', 'Java', 'Ruby']\n",
    "\n",
    "print(new_list)"
   ]
  },
  {
   "cell_type": "code",
   "execution_count": 46,
   "id": "4513f700",
   "metadata": {},
   "outputs": [
    {
     "name": "stdout",
     "output_type": "stream",
     "text": [
      "['cat', 12, 15.2]\n"
     ]
    }
   ],
   "source": [
    "# List can also store different data types such as strings, integers and float.\n",
    "\n",
    "list_2 = ['cat', 12, 15.2]\n",
    "\n",
    "print(list_2)"
   ]
  },
  {
   "cell_type": "code",
   "execution_count": 47,
   "id": "e81c1b8f",
   "metadata": {},
   "outputs": [
    {
     "name": "stdout",
     "output_type": "stream",
     "text": [
      "['apple', 'banana', 5, 2, 5, 10.2, 8, 10.2, 'banana', 'apple']\n"
     ]
    }
   ],
   "source": [
    "# Example of a list with duplicates.\n",
    "\n",
    "list_a = ['apple', 'banana', 5, 2, 5, 10.2, 8, 10.2, 'banana', 'apple']\n",
    "\n",
    "print(list_a)"
   ]
  },
  {
   "cell_type": "code",
   "execution_count": 48,
   "id": "49217589",
   "metadata": {},
   "outputs": [
    {
     "name": "stdout",
     "output_type": "stream",
     "text": [
      "['apple', 'banana', 5, 2, 10.2, 8.3, ['apple', 'banana', 5, 2, 10.2, 8.3]]\n"
     ]
    }
   ],
   "source": [
    "# Example of list with duplicate\n",
    "# Nested list\n",
    "\n",
    "list_a = ['apple', 'banana', 5, 2, 10.2, 8.3, ['apple', 'banana', 5, 2, 10.2, 8.3]]\n",
    "\n",
    "print(list_a)"
   ]
  },
  {
   "cell_type": "code",
   "execution_count": 49,
   "id": "9b1fbdbd",
   "metadata": {},
   "outputs": [
    {
     "data": {
      "text/plain": [
       "7"
      ]
     },
     "execution_count": 49,
     "metadata": {},
     "output_type": "execute_result"
    }
   ],
   "source": [
    "# Example of the len() function.\n",
    "# Start with a list.\n",
    "planets = ['Mercury', 'Venus', 'Earth', 'Jupiter', 'Saturn', 'Uranus', 'Neptune']\n",
    "\n",
    "# Measure the length of the list.\n",
    "len(planets)"
   ]
  },
  {
   "cell_type": "code",
   "execution_count": 53,
   "id": "95f23811",
   "metadata": {},
   "outputs": [
    {
     "data": {
      "text/plain": [
       "['onion', 'lettuce', 'carrot', 'cabbage']"
      ]
     },
     "execution_count": 53,
     "metadata": {},
     "output_type": "execute_result"
    }
   ],
   "source": [
    "# Example of slicing\n",
    "# Create a list \n",
    "\n",
    "veg = ['spinach', 'pumpkin', 'onion', 'lettuce', 'carrot', 'cabbage', 'broccoli', 'aspargus']\n",
    "\n",
    "# Don't use the print function for the slicing method\n",
    "veg[2:6]"
   ]
  },
  {
   "cell_type": "code",
   "execution_count": 54,
   "id": "b6c0c486",
   "metadata": {},
   "outputs": [
    {
     "data": {
      "text/plain": [
       "['pumpkin', 'lettuce', 'cabbage']"
      ]
     },
     "execution_count": 54,
     "metadata": {},
     "output_type": "execute_result"
    }
   ],
   "source": [
    "# Using step increments for slicing\n",
    "\n",
    "veg = ['spinach', 'pumpkin', 'onion', 'lettuce', 'carrot', 'cabbage', 'broccoli', 'aspargus']\n",
    "\n",
    "# Index position in python is 0.\n",
    "# List name [start index : stop index : step size].\n",
    "\n",
    "veg[1:7:2]"
   ]
  },
  {
   "cell_type": "code",
   "execution_count": 55,
   "id": "e367f7d2",
   "metadata": {},
   "outputs": [
    {
     "name": "stdout",
     "output_type": "stream",
     "text": [
      "['spinach', 'pumpkin', 'onion', 'lettuce', 'carrot', 'cabbage', 'broccoli', 'aspargus']\n"
     ]
    }
   ],
   "source": [
    "print(veg)"
   ]
  },
  {
   "cell_type": "code",
   "execution_count": 56,
   "id": "f47ce172",
   "metadata": {},
   "outputs": [
    {
     "data": {
      "text/plain": [
       "['spinach', 'onion', 'carrot', 'broccoli']"
      ]
     },
     "execution_count": 56,
     "metadata": {},
     "output_type": "execute_result"
    }
   ],
   "source": [
    "# Example of selecting a range of elements and changing default step parameter\n",
    "# Empty values will use the defaults.\n",
    "\n",
    "veg[::2]"
   ]
  },
  {
   "cell_type": "code",
   "execution_count": 58,
   "id": "7bcf037b",
   "metadata": {},
   "outputs": [
    {
     "data": {
      "text/plain": [
       "['aspargus', 'cabbage', 'lettuce', 'pumpkin']"
      ]
     },
     "execution_count": 58,
     "metadata": {},
     "output_type": "execute_result"
    }
   ],
   "source": [
    "# Example of using negative index.\n",
    "# Pass -2 to reverse the list.\n",
    "\n",
    "veg[::-2]"
   ]
  },
  {
   "cell_type": "code",
   "execution_count": 59,
   "id": "9840a458",
   "metadata": {},
   "outputs": [
    {
     "name": "stdout",
     "output_type": "stream",
     "text": [
      "('Python', 'Java', 'Ruby')\n"
     ]
    },
    {
     "data": {
      "text/plain": [
       "3"
      ]
     },
     "execution_count": 59,
     "metadata": {},
     "output_type": "execute_result"
    }
   ],
   "source": [
    "# Create a tuple\n",
    "tuple_1 = ('Python', 'Java', 'Ruby')\n",
    "\n",
    "print(tuple_1)\n",
    "len(tuple_1)"
   ]
  },
  {
   "cell_type": "code",
   "execution_count": 60,
   "id": "34737736",
   "metadata": {},
   "outputs": [
    {
     "name": "stdout",
     "output_type": "stream",
     "text": [
      "('apple', 'banana', 5, 2, 10.2, 8.3)\n"
     ]
    }
   ],
   "source": [
    "# Example of a list with different data types.\n",
    "\n",
    "tuple_a = ('apple', 'banana', 5, 2, 10.2, 8.3)\n",
    "\n",
    "print(tuple_a)"
   ]
  },
  {
   "cell_type": "code",
   "execution_count": 61,
   "id": "1fd43611",
   "metadata": {},
   "outputs": [
    {
     "name": "stdout",
     "output_type": "stream",
     "text": [
      "('apple', 'banana', 5, 2, 10.2, 8.3, 'apple', 'banana', 5, 2, 10.2, 8.3)\n"
     ]
    }
   ],
   "source": [
    "# Example of a list with duplicate items.\n",
    "tuple_b = ('apple', 'banana', 5, 2, 10.2, 8.3, 'apple', 'banana', 5, 2, 10.2, 8.3)\n",
    "\n",
    "print(tuple_b)"
   ]
  },
  {
   "cell_type": "code",
   "execution_count": 62,
   "id": "3c70b5ca",
   "metadata": {},
   "outputs": [
    {
     "name": "stdout",
     "output_type": "stream",
     "text": [
      "('apple', 'banana', 5, 2, 10.2, 8.3, ('apple', 'banana', 5, 2, 10.2, 8.3))\n"
     ]
    }
   ],
   "source": [
    "# Example of a nested tuple.\n",
    "tuple_c = ('apple', 'banana', 5, 2, 10.2, 8.3, ('apple', 'banana', 5, 2, 10.2, 8.3))\n",
    "\n",
    "print(tuple_c)"
   ]
  },
  {
   "cell_type": "code",
   "execution_count": 64,
   "id": "dce8440b",
   "metadata": {},
   "outputs": [
    {
     "name": "stdout",
     "output_type": "stream",
     "text": [
      "Earth\n",
      "Saturn\n",
      "Pluto\n",
      "Pluto Saturn Earth\n"
     ]
    }
   ],
   "source": [
    "# Example of assigning values to objects.\n",
    "celestial_objects = ('Earth', 'Saturn', 'Pluto')\n",
    "\n",
    "planet, gas_giant, dwarf_planet = celestial_objects\n",
    "\n",
    "# Each of these will output the corresponding object from the tuple.\n",
    "print(planet)\n",
    "print(gas_giant)\n",
    "print(dwarf_planet)\n",
    "print(dwarf_planet, gas_giant, planet)"
   ]
  },
  {
   "cell_type": "code",
   "execution_count": 65,
   "id": "3f30d25e",
   "metadata": {},
   "outputs": [
    {
     "ename": "ValueError",
     "evalue": "too many values to unpack (expected 2)",
     "output_type": "error",
     "traceback": [
      "\u001b[1;31m---------------------------------------------------------------------------\u001b[0m",
      "\u001b[1;31mValueError\u001b[0m                                Traceback (most recent call last)",
      "\u001b[1;32m~\\AppData\\Local\\Temp\\ipykernel_12212\\1610541539.py\u001b[0m in \u001b[0;36m<module>\u001b[1;34m\u001b[0m\n\u001b[0;32m      4\u001b[0m \u001b[1;31m# Notice two variables, while the tuple contains three objects.\u001b[0m\u001b[1;33m\u001b[0m\u001b[1;33m\u001b[0m\u001b[0m\n\u001b[0;32m      5\u001b[0m \u001b[1;31m# This will result in an error.\u001b[0m\u001b[1;33m\u001b[0m\u001b[1;33m\u001b[0m\u001b[0m\n\u001b[1;32m----> 6\u001b[1;33m \u001b[0mplanet\u001b[0m\u001b[1;33m,\u001b[0m \u001b[0mgas_giant\u001b[0m \u001b[1;33m=\u001b[0m \u001b[0mcelestial_objects\u001b[0m\u001b[1;33m\u001b[0m\u001b[1;33m\u001b[0m\u001b[0m\n\u001b[0m",
      "\u001b[1;31mValueError\u001b[0m: too many values to unpack (expected 2)"
     ]
    }
   ],
   "source": [
    "# Example of assigning values to objects.\n",
    "celestial_objects = ('Earth', 'Saturn', 'Pluto')\n",
    "\n",
    "# Notice two variables, while the tuple contains three objects.\n",
    "# This will result in an error.\n",
    "planet, gas_giant = celestial_objects"
   ]
  },
  {
   "cell_type": "code",
   "execution_count": 67,
   "id": "b14f8bec",
   "metadata": {},
   "outputs": [
    {
     "name": "stdout",
     "output_type": "stream",
     "text": [
      "(1, 2, 'Pluto', [1, 2, 3, 4])\n",
      "4\n"
     ]
    }
   ],
   "source": [
    "# Example of modifying a list within a tuple.\n",
    "tup = (1, 2, 'Pluto', [1 , 2, 3])\n",
    "\n",
    "# Identify the index position of the list and make the modification.\n",
    "# Appending 4 to the list\n",
    "tup[3].append(4)\n",
    "\n",
    "print(tup)\n",
    "print(len(tup))"
   ]
  },
  {
   "cell_type": "code",
   "execution_count": 68,
   "id": "1da2b241",
   "metadata": {},
   "outputs": [
    {
     "name": "stdout",
     "output_type": "stream",
     "text": [
      "(1, 1.1, 5, 5.1, 6.8)\n",
      "5\n",
      "1\n",
      "6.8\n",
      "1\n",
      "5\n"
     ]
    }
   ],
   "source": [
    "# Create a tuple with three different data types.\n",
    "tup_1 = (1, 1.10, 5, 5.1, 6.8)\n",
    "\n",
    "# View the tuple.\n",
    "print(tup_1)\n",
    "\n",
    "# View the length of the table\n",
    "print(len(tup_1))\n",
    "\n",
    "# View the minimum value of the tuple\n",
    "print(min(tup_1))\n",
    "\n",
    "# View the maximum value of the tuple\n",
    "print(max(tup_1))\n",
    "\n",
    "# View the first value of the tuple.\n",
    "print(tup_1[0])\n",
    "\n",
    "# View the middle value of the tuple.\n",
    "print(tup_1[2])"
   ]
  },
  {
   "cell_type": "code",
   "execution_count": 70,
   "id": "e9d6a6a1",
   "metadata": {},
   "outputs": [
    {
     "name": "stdout",
     "output_type": "stream",
     "text": [
      "{'key1': 'Name', 'key2': 'Age', 'key3': 1964}\n"
     ]
    }
   ],
   "source": [
    "# Example of the dictionary data structure\n",
    "# Notice how each key has a value joined by:.\n",
    "# Notice the curly brackets.\n",
    "dict_1 = {'key1':'Name',\n",
    "          'key2': 'Age',\n",
    "          'key3': 1964}\n",
    "    \n",
    "print(dict_1)"
   ]
  },
  {
   "cell_type": "code",
   "execution_count": 71,
   "id": "c031dfc9",
   "metadata": {},
   "outputs": [
    {
     "name": "stdout",
     "output_type": "stream",
     "text": [
      "{'key1': 'Name', 'key2': 'Age', 'key3': 1964}\n",
      "{'key1': 'Name', 'key2': 'new_value', 'key3': 1964}\n"
     ]
    }
   ],
   "source": [
    "# Original dictionary\n",
    "print(dict_1)\n",
    "\n",
    "# Change the value of key 2.\n",
    "dict_1['key2'] = 'new_value'\n",
    "print(dict_1)"
   ]
  },
  {
   "cell_type": "code",
   "execution_count": 72,
   "id": "607c6c07",
   "metadata": {},
   "outputs": [
    {
     "name": "stdout",
     "output_type": "stream",
     "text": [
      "{'key1': 'Name', 'key2': 'new_value', 'key3': 1964}\n",
      "{'key1': 'Name', 'key2': 'new_value', 'key3': 1964, 'key4': 'address'}\n"
     ]
    }
   ],
   "source": [
    "# Dictionary before edits.\n",
    "print(dict_1)\n",
    "\n",
    "# Add a new key value pair.\n",
    "dict_1['key4'] = 'address'\n",
    "\n",
    "print(dict_1)"
   ]
  },
  {
   "cell_type": "code",
   "execution_count": 73,
   "id": "a720b2e5",
   "metadata": {},
   "outputs": [
    {
     "name": "stdout",
     "output_type": "stream",
     "text": [
      "{'key1': 'Name', 'key2': 'new_value', 'key3': 1964, 'key4': 'address'}\n",
      "{'key1': 'Name', 'key2': 'new_value', 'key3': 1964, 'key4': ['48 Mainstreet']}\n"
     ]
    }
   ],
   "source": [
    "# Dictionary before edits\n",
    "print(dict_1)\n",
    "\n",
    "# Example of changing and replacing values in a dictionary.\n",
    "dict_1['key4'] = ['48 Mainstreet']\n",
    "\n",
    "print(dict_1)"
   ]
  },
  {
   "cell_type": "code",
   "execution_count": 74,
   "id": "28bef08e",
   "metadata": {},
   "outputs": [
    {
     "name": "stdout",
     "output_type": "stream",
     "text": [
      "{'key1': 'Name', 'key2': 'new_value', 'key3': 1964, 'key4': ['48 Mainstreet']}\n",
      "['48 Mainstreet']\n"
     ]
    }
   ],
   "source": [
    "# dictionary before edit\n",
    "print(dict_1)\n",
    "\n",
    "# Example of storing values in a separate variable.\n",
    "# Define the new varaible.\n",
    "new_val = dict_1['key4']\n",
    "\n",
    "print(new_val)"
   ]
  },
  {
   "cell_type": "code",
   "execution_count": 75,
   "id": "5a70fa2c",
   "metadata": {},
   "outputs": [
    {
     "name": "stdout",
     "output_type": "stream",
     "text": [
      "{1, 2, 3, 4}\n",
      "<class 'set'>\n"
     ]
    }
   ],
   "source": [
    "# Example of a set.\n",
    "set1 = set([1, 2, 3, 4, 4, 2])\n",
    "\n",
    "# View the set.\n",
    "print(set1)\n",
    "\n",
    "# View the data type.\n",
    "print(type(set1))"
   ]
  },
  {
   "cell_type": "code",
   "execution_count": 76,
   "id": "6a0ec671",
   "metadata": {},
   "outputs": [
    {
     "name": "stdout",
     "output_type": "stream",
     "text": [
      "{5, 6, 7}\n",
      "<class 'set'>\n"
     ]
    }
   ],
   "source": [
    "# Example of a set.\n",
    "set2 = {5, 6, 7, 7, 6, 5}\n",
    "\n",
    "#View the set.\n",
    "print(set2)\n",
    "\n",
    "#View the data type.\n",
    "print(type(set2))"
   ]
  },
  {
   "cell_type": "code",
   "execution_count": 77,
   "id": "42fd3c3e",
   "metadata": {},
   "outputs": [
    {
     "name": "stdout",
     "output_type": "stream",
     "text": [
      "{'tomato'}\n"
     ]
    }
   ],
   "source": [
    "# Find the intersection \n",
    "fruit = {'apple', 'pear', 'watermelon', 'tomato'}\n",
    "vegetables = {'carrot', 'tomato', 'parsnip', 'leek'}\n",
    "\n",
    "print(fruit.intersection(vegetables))"
   ]
  },
  {
   "cell_type": "code",
   "execution_count": 78,
   "id": "17910be8",
   "metadata": {},
   "outputs": [
    {
     "name": "stdout",
     "output_type": "stream",
     "text": [
      "{'carrot', 'tomato', 'beetroot', 'parsnip', 'leek'}\n"
     ]
    }
   ],
   "source": [
    "# Add beetroot to vegetables with add().\n",
    "vegetables.add('beetroot')\n",
    "\n",
    "# View set vegetable.\n",
    "print(vegetables)\n"
   ]
  },
  {
   "cell_type": "code",
   "execution_count": 79,
   "id": "690e4c05",
   "metadata": {},
   "outputs": [
    {
     "name": "stdout",
     "output_type": "stream",
     "text": [
      "{'carrot', 'beetroot', 'tomato', 'watermelon', 'parsnip', 'apple', 'leek', 'pear'}\n"
     ]
    }
   ],
   "source": [
    "# combine two sets with union()#\n",
    "edible_plants = vegetables.union(fruit)\n",
    "\n",
    "# View the vegetables set.\n",
    "print(edible_plants)"
   ]
  },
  {
   "cell_type": "code",
   "execution_count": 80,
   "id": "64785867",
   "metadata": {},
   "outputs": [
    {
     "name": "stdout",
     "output_type": "stream",
     "text": [
      "{'beetroot', 'leek', 'carrot', 'parsnip'}\n"
     ]
    }
   ],
   "source": [
    "# Identify the vegetables in the edible_plants set.\n",
    "# Use .difference().\n",
    "\n",
    "print(edible_plants.difference(fruit))"
   ]
  },
  {
   "cell_type": "code",
   "execution_count": 81,
   "id": "b98b780d",
   "metadata": {},
   "outputs": [
    {
     "name": "stdout",
     "output_type": "stream",
     "text": [
      "a is greater than b\n"
     ]
    }
   ],
   "source": [
    "# Create two variable.\n",
    "\n",
    "a = 20\n",
    "b = 5\n",
    "\n",
    "# Use the if statement.\n",
    "# Specify the test expression a > b.\n",
    "\n",
    "if a > b:\n",
    "    # Note the indentation\n",
    "    # View the output as a string.\n",
    "    print(\"a is greater than b\")"
   ]
  },
  {
   "cell_type": "code",
   "execution_count": 82,
   "id": "2b8129ad",
   "metadata": {},
   "outputs": [],
   "source": [
    "# Create two variables.\n",
    "a = 2\n",
    "b = 5\n",
    "\n",
    "# Use the if statement.\n",
    "# Specify the test expression a > b.\n",
    "# Note the colon.\n",
    "\n",
    "if a>b:\n",
    "    # View the output as a string.\n",
    "    print(\"a is greater than b\")"
   ]
  },
  {
   "cell_type": "code",
   "execution_count": 83,
   "id": "93b7cf5e",
   "metadata": {},
   "outputs": [
    {
     "name": "stdout",
     "output_type": "stream",
     "text": [
      "a is greater than b\n"
     ]
    }
   ],
   "source": [
    "# Create two variables.\n",
    "a = 20\n",
    "b = 5 \n",
    "\n",
    "# Use the if statement.\n",
    "# Specify the test expression a < b.\n",
    "# Note then colon(:).\n",
    "\n",
    "if a < b:\n",
    "    # Note the indention.\n",
    "    # View the output as a string.\n",
    "    print(\"a is smaller than b\")\n",
    "\n",
    "# Use the elif statement.\n",
    "# Specify the test expression as a > b.\n",
    "elif a > b:\n",
    "    print(\"a is greater than b\")"
   ]
  },
  {
   "cell_type": "code",
   "execution_count": 84,
   "id": "a591d20b",
   "metadata": {},
   "outputs": [
    {
     "name": "stdout",
     "output_type": "stream",
     "text": [
      "a smaller than b\n"
     ]
    }
   ],
   "source": [
    "# create two variables.\n",
    "a = 2\n",
    "b = 5\n",
    "\n",
    "# Use the if statement.\n",
    "#Specify the test expression as a > b.\n",
    "if a > b:\n",
    "    print(\"a is greater than b\")\n",
    "    \n",
    "# specify test expression\n",
    "\n",
    "elif a < b:\n",
    "    print(\"a smaller than b\")"
   ]
  },
  {
   "cell_type": "code",
   "execution_count": 85,
   "id": "9a35cd61",
   "metadata": {},
   "outputs": [
    {
     "name": "stdout",
     "output_type": "stream",
     "text": [
      "a is bigger than b\n"
     ]
    }
   ],
   "source": [
    "# Create two variables.\n",
    "a = 20\n",
    "b = 5\n",
    "\n",
    "# Use the if statement,\n",
    "# Specify the test expression a == b\n",
    "\n",
    "if a == b:\n",
    "    print(\" a is equal to b\")\n",
    "    \n",
    "elif a < b:\n",
    "    print(\"a is smaller than b\")\n",
    "\n",
    "else:\n",
    "    print(\"a is bigger than b\")"
   ]
  },
  {
   "cell_type": "code",
   "execution_count": 86,
   "id": "21d13d0a",
   "metadata": {},
   "outputs": [
    {
     "name": "stdout",
     "output_type": "stream",
     "text": [
      "a is bigger than b\n"
     ]
    }
   ],
   "source": [
    "# Create two variables.\n",
    "a = 20\n",
    "b = 5\n",
    "\n",
    "# Use the if statement.\n",
    "# Specify the test expression a > b\n",
    "\n",
    "if a > b:\n",
    "    print(\"a is bigger than b\")\n",
    "    \n",
    "elif a == b:\n",
    "    print(\"a is equal to b\")\n",
    "    \n",
    "else:\n",
    "    print(\"a is smaller than b\")"
   ]
  },
  {
   "cell_type": "code",
   "execution_count": 87,
   "id": "ab880f3f",
   "metadata": {},
   "outputs": [
    {
     "name": "stdout",
     "output_type": "stream",
     "text": [
      "London\n",
      "Paris\n",
      "New York City\n",
      "Singapore\n"
     ]
    }
   ],
   "source": [
    "# Print each iteam in the list\n",
    "cities = ['London', 'Paris', 'New York City', 'Singapore']\n",
    "\n",
    "# 'item' in this line is an object in the list.\n",
    "for item in cities:\n",
    "    #View the list.\n",
    "    print(item)"
   ]
  },
  {
   "cell_type": "code",
   "execution_count": 88,
   "id": "aa95343f",
   "metadata": {},
   "outputs": [
    {
     "name": "stdout",
     "output_type": "stream",
     "text": [
      "T\n",
      "o\n",
      "p\n",
      " \n",
      "C\n",
      "i\n",
      "t\n",
      "i\n",
      "e\n",
      "s\n"
     ]
    }
   ],
   "source": [
    "# Print each item in the string.\n",
    "a = 'Top Cities'\n",
    "# i is a variable.\n",
    "for i in a:\n",
    "    #View the list.\n",
    "    print(i)"
   ]
  },
  {
   "cell_type": "code",
   "execution_count": 89,
   "id": "7333f6c0",
   "metadata": {},
   "outputs": [
    {
     "name": "stdout",
     "output_type": "stream",
     "text": [
      "T\n",
      "o\n",
      "p\n",
      " \n",
      "C\n",
      "i\n",
      "t\n",
      "i\n",
      "e\n",
      "s\n"
     ]
    }
   ],
   "source": [
    "# Print each item in the string.\n",
    "a = 'Top Cities'\n",
    "# i is a variable.\n",
    "for l in a:\n",
    "    #View the list.\n",
    "    print(l)"
   ]
  },
  {
   "cell_type": "code",
   "execution_count": 90,
   "id": "e7b7c84c",
   "metadata": {},
   "outputs": [
    {
     "name": "stdout",
     "output_type": "stream",
     "text": [
      "London\n",
      "Paris\n",
      "New York City\n"
     ]
    }
   ],
   "source": [
    "# Print each item in a tuple.\n",
    "tup_a = ('London', 'Paris', 'New York City')\n",
    "#Print each item inside a tuple.\n",
    "for i in tup_a:\n",
    "    print(i)"
   ]
  },
  {
   "cell_type": "code",
   "execution_count": 91,
   "id": "bc38d003",
   "metadata": {},
   "outputs": [
    {
     "name": "stdout",
     "output_type": "stream",
     "text": [
      "London\n",
      "Paris\n",
      "New York\n"
     ]
    }
   ],
   "source": [
    "# Print each iteam in a tuple\n",
    "tup_a = ('London', 'Paris', 'New York')\n",
    "\n",
    "#Print each item inside a tuple.\n",
    "for i in tup_a:\n",
    "    print(i)"
   ]
  },
  {
   "cell_type": "code",
   "execution_count": 92,
   "id": "c4ff707d",
   "metadata": {},
   "outputs": [
    {
     "name": "stdout",
     "output_type": "stream",
     "text": [
      "city\n",
      "age\n",
      "population\n"
     ]
    }
   ],
   "source": [
    "#  Print each item in a tuple.\n",
    "a_dict = {'city': 'London', 'age': 2000, 'population':8.9}\n",
    "# Age given in years and pop. in millions.\n",
    "for i in a_dict:\n",
    "    print(i)"
   ]
  },
  {
   "cell_type": "code",
   "execution_count": 93,
   "id": "8d262714",
   "metadata": {},
   "outputs": [
    {
     "name": "stdout",
     "output_type": "stream",
     "text": [
      "2\n",
      "3\n",
      "4\n",
      "5\n",
      "6\n",
      "7\n",
      "8\n",
      "9\n"
     ]
    }
   ],
   "source": [
    "# create a variable\n",
    "i = 1\n",
    "# Specify the condition.\n",
    "while i < 9:\n",
    "    # This is the loop body - the += operator is adding the 1 to i.\n",
    "    i += 1\n",
    "    # View the output.\n",
    "    print(i)"
   ]
  },
  {
   "cell_type": "code",
   "execution_count": 95,
   "id": "6b7e8bd9",
   "metadata": {},
   "outputs": [
    {
     "name": "stdout",
     "output_type": "stream",
     "text": [
      "count : 1\n",
      "Python is fun!\n",
      "count : 2\n",
      "Python is fun!\n",
      "count : 3\n",
      "Python is fun!\n",
      "count : 4\n",
      "Python is fun!\n",
      "count : 5\n",
      "Python is fun!\n"
     ]
    }
   ],
   "source": [
    "# Define the variable\n",
    "count = 0\n",
    "# Specify the condition.\n",
    "while count < 5:\n",
    "    count = count + 1\n",
    "    # Specify the docstring with f\"\"\n",
    "    print(f\"count : {count}\")\n",
    "    # View the output\n",
    "    print(\"Python is fun!\")\n"
   ]
  },
  {
   "cell_type": "code",
   "execution_count": 96,
   "id": "6f704c16",
   "metadata": {},
   "outputs": [
    {
     "name": "stdout",
     "output_type": "stream",
     "text": [
      "Current letter : e\n",
      "Current letter : r\n",
      "Current letter : o\n",
      "Current letter : p\n",
      "Current letter : l\n",
      "Current letter : e\n"
     ]
    }
   ],
   "source": [
    "i = 0\n",
    "a = 'aeroplane'\n",
    "\n",
    "# The len function returns the length of the object.\n",
    "while i < len(a):\n",
    "    if a[i] == 'a' or a[i] == 'n':\n",
    "        i+= 1\n",
    "        continue\n",
    "        \n",
    "    print(\"Current letter :\", a[i])\n",
    "    i += 1"
   ]
  },
  {
   "cell_type": "code",
   "execution_count": 97,
   "id": "e166ef59",
   "metadata": {},
   "outputs": [
    {
     "name": "stdout",
     "output_type": "stream",
     "text": [
      "red apple\n",
      "red banana\n",
      "red cherry\n",
      "big apple\n",
      "big banana\n",
      "big cherry\n",
      "tasty apple\n",
      "tasty banana\n",
      "tasty cherry\n"
     ]
    }
   ],
   "source": [
    "#Print each adjective for every fruit.\n",
    "adj = ['red', 'big', 'tasty']\n",
    "fruits = ['apple', 'banana', 'cherry']\n",
    "\n",
    "for x in adj:\n",
    "    for y in fruits:\n",
    "        print (x,y)"
   ]
  },
  {
   "cell_type": "code",
   "execution_count": 98,
   "id": "a5abcf3c",
   "metadata": {},
   "outputs": [
    {
     "name": "stdout",
     "output_type": "stream",
     "text": [
      "London\n",
      "Paris\n",
      "New York City\n"
     ]
    }
   ],
   "source": [
    "# Exit the loop when 'x' is New York City.\n",
    "cities = ['London', 'Paris', 'New York City', 'Singapore']\n",
    "for x in cities:\n",
    "    print(x)\n",
    "    \n",
    "    if x == 'New York City':\n",
    "        break"
   ]
  },
  {
   "cell_type": "code",
   "execution_count": 101,
   "id": "d42f6a5a",
   "metadata": {},
   "outputs": [
    {
     "name": "stdout",
     "output_type": "stream",
     "text": [
      "London\n",
      "Paris\n",
      "Singapore\n"
     ]
    }
   ],
   "source": [
    "#Do not print New York City and continue to Singapore.\n",
    "cities = ['London', 'Paris', 'New York City', 'Singapore']\n",
    "for x in cities:\n",
    "    \n",
    "    if x == \"New York City\":\n",
    "        continue\n",
    "    print(x)"
   ]
  },
  {
   "cell_type": "code",
   "execution_count": 102,
   "id": "d72c6f4b",
   "metadata": {},
   "outputs": [],
   "source": [
    "cities = ['London', 'Paris', 'New York City', 'Singapore']\n",
    "\n",
    "for i in cities:\n",
    "    pass"
   ]
  },
  {
   "cell_type": "code",
   "execution_count": 108,
   "id": "ef5deb4f",
   "metadata": {},
   "outputs": [
    {
     "ename": "SyntaxError",
     "evalue": "invalid syntax (931372259.py, line 10)",
     "output_type": "error",
     "traceback": [
      "\u001b[1;36m  File \u001b[1;32m\"C:\\Users\\alexc_dra7fx5\\AppData\\Local\\Temp\\ipykernel_12212\\931372259.py\"\u001b[1;36m, line \u001b[1;32m10\u001b[0m\n\u001b[1;33m    if i == 'Toyota'\u001b[0m\n\u001b[1;37m                     ^\u001b[0m\n\u001b[1;31mSyntaxError\u001b[0m\u001b[1;31m:\u001b[0m invalid syntax\n"
     ]
    }
   ],
   "source": [
    "# Creat a list of five cars.\n",
    "cars = [\"Nissan\", \"Ford\", \"Toyota\", \"Fiat\", \"VW\"]\n",
    "\n",
    "# Create a for loop.\n",
    "for i in cars:\n",
    "    # Create a statement.\n",
    "    print(i)\n",
    "    \n",
    "    #Create an if statement.\n",
    "    if i == 'Toyota' \n",
    "    \n",
    "    #insert a break statement.\n",
    "    break"
   ]
  },
  {
   "cell_type": "code",
   "execution_count": null,
   "id": "9ae2c394",
   "metadata": {},
   "outputs": [],
   "source": []
  },
  {
   "cell_type": "code",
   "execution_count": null,
   "id": "0a6c77ef",
   "metadata": {},
   "outputs": [],
   "source": []
  },
  {
   "cell_type": "markdown",
   "id": "72d11285",
   "metadata": {},
   "source": [
    "### 1.3 Python libraries and reproducibility of code"
   ]
  },
  {
   "cell_type": "code",
   "execution_count": 115,
   "id": "858e53a9",
   "metadata": {},
   "outputs": [
    {
     "name": "stdout",
     "output_type": "stream",
     "text": [
      "Hello my name is alex and I'm 28 years old\n"
     ]
    }
   ],
   "source": [
    "class Person:\n",
    "    def __init__(self, name, age):\n",
    "        self.name = name\n",
    "        self.age = age\n",
    "    def introduce(self):\n",
    "        print(f\"Hello my name is {self.name} and I\\'m {self.age} years old\")\n",
    "        \n",
    "person_object = Person(\"alex\", \"28\")\n",
    "person_object.introduce()"
   ]
  },
  {
   "cell_type": "code",
   "execution_count": null,
   "id": "ac988a5b",
   "metadata": {},
   "outputs": [],
   "source": [
    "class Person:\n",
    "    def __init__(self, name, age):\n",
    "        self.name = name\n",
    "        self.age = age\n",
    "    def introduce(self):\n",
    "        print(f\"Hello my name is {self.name} and I\\'m {self.age} years old\")\n",
    "        \n",
    "person_object = Person(\"alex\", \"28\")\n",
    "person_object.introduce()\n"
   ]
  },
  {
   "cell_type": "code",
   "execution_count": 118,
   "id": "d7c458df",
   "metadata": {},
   "outputs": [
    {
     "name": "stdout",
     "output_type": "stream",
     "text": [
      "False\n"
     ]
    }
   ],
   "source": [
    "class person:\n",
    "    name = 'Jane'\n",
    "    age = 22\n",
    "\n",
    "x = hasattr(Person, 'age')\n",
    "print(x)"
   ]
  },
  {
   "cell_type": "code",
   "execution_count": 119,
   "id": "01029438",
   "metadata": {},
   "outputs": [
    {
     "name": "stdout",
     "output_type": "stream",
     "text": [
      "22\n"
     ]
    }
   ],
   "source": [
    "class Person:\n",
    "    name = 'Jane'\n",
    "    age = 22\n",
    "\n",
    "x = getattr(Person, 'age')\n",
    "print(x)"
   ]
  },
  {
   "cell_type": "code",
   "execution_count": 120,
   "id": "76885929",
   "metadata": {},
   "outputs": [
    {
     "name": "stdout",
     "output_type": "stream",
     "text": [
      "32\n"
     ]
    }
   ],
   "source": [
    "class Person:\n",
    "    name = 'Jane'\n",
    "    age = 22\n",
    "\n",
    "setattr(Person, 'age', 32)\n",
    "    \n",
    "x = getattr(Person, 'age')\n",
    "\n",
    "print(x)"
   ]
  },
  {
   "cell_type": "code",
   "execution_count": 121,
   "id": "a87823c1",
   "metadata": {},
   "outputs": [
    {
     "ename": "AttributeError",
     "evalue": "type object 'Person' has no attribute 'age'",
     "output_type": "error",
     "traceback": [
      "\u001b[1;31m---------------------------------------------------------------------------\u001b[0m",
      "\u001b[1;31mAttributeError\u001b[0m                            Traceback (most recent call last)",
      "\u001b[1;32m~\\AppData\\Local\\Temp\\ipykernel_12212\\3936943580.py\u001b[0m in \u001b[0;36m<module>\u001b[1;34m\u001b[0m\n\u001b[0;32m      5\u001b[0m \u001b[0mdelattr\u001b[0m\u001b[1;33m(\u001b[0m\u001b[0mPerson\u001b[0m\u001b[1;33m,\u001b[0m \u001b[1;34m'age'\u001b[0m\u001b[1;33m)\u001b[0m\u001b[1;33m\u001b[0m\u001b[1;33m\u001b[0m\u001b[0m\n\u001b[0;32m      6\u001b[0m \u001b[1;33m\u001b[0m\u001b[0m\n\u001b[1;32m----> 7\u001b[1;33m \u001b[0mx\u001b[0m \u001b[1;33m=\u001b[0m \u001b[0mgetattr\u001b[0m\u001b[1;33m(\u001b[0m\u001b[0mPerson\u001b[0m\u001b[1;33m,\u001b[0m \u001b[1;34m'age'\u001b[0m\u001b[1;33m)\u001b[0m\u001b[1;33m\u001b[0m\u001b[1;33m\u001b[0m\u001b[0m\n\u001b[0m\u001b[0;32m      8\u001b[0m \u001b[0mprint\u001b[0m\u001b[1;33m(\u001b[0m\u001b[0mx\u001b[0m\u001b[1;33m)\u001b[0m\u001b[1;33m\u001b[0m\u001b[1;33m\u001b[0m\u001b[0m\n",
      "\u001b[1;31mAttributeError\u001b[0m: type object 'Person' has no attribute 'age'"
     ]
    }
   ],
   "source": [
    "class Person:\n",
    "    name = 'Jane'\n",
    "    age = 32\n",
    "    \n",
    "delattr(Person, 'age')\n",
    "\n",
    "x = getattr(Person, 'age')\n",
    "print(x)"
   ]
  },
  {
   "cell_type": "code",
   "execution_count": 122,
   "id": "074a637a",
   "metadata": {},
   "outputs": [
    {
     "name": "stdout",
     "output_type": "stream",
     "text": [
      "Hello my name is James and I'm 30 years old and I speak English.\n"
     ]
    }
   ],
   "source": [
    "class Person:\n",
    "    def __init__(self, name, age, language):\n",
    "        self.name = name\n",
    "        self.age = age\n",
    "        self.language = language\n",
    "    def introduce(self):\n",
    "        print(f\"Hello my name is {self.name} and I\\'m {self.age} years old and I speak {self.language}.\")\n",
    "        \n",
    "class Student(Person):\n",
    "    pass\n",
    "\n",
    "person_object = Student('James', 30, 'English')\n",
    "person_object.introduce()\n"
   ]
  },
  {
   "cell_type": "code",
   "execution_count": 123,
   "id": "67fdf8bf",
   "metadata": {},
   "outputs": [
    {
     "name": "stdout",
     "output_type": "stream",
     "text": [
      "Hello! The weather today is 30 degress Celsius, 30km/h and SSE.\n"
     ]
    }
   ],
   "source": [
    "# write a class weather with three attributes temperature, wind speed and wind direction\n",
    "\n",
    "class Weather:\n",
    "    def __init__(self, temperature, wind_speed, wind_direction):\n",
    "        self.temp = temperature\n",
    "        self.wspeed = wind_speed\n",
    "        self.wdirection = wind_direction\n",
    "    def introduce(self):\n",
    "        print(f\"Hello! The weather today is {self.temp}, {self.wspeed} and {self.wdirection}.\")\n",
    "\n",
    "person_object = Weather('30 degress Celsius', '30km/h', 'SSE')\n",
    "person_object.introduce()"
   ]
  },
  {
   "cell_type": "code",
   "execution_count": 124,
   "id": "bb2dd5a4",
   "metadata": {},
   "outputs": [
    {
     "name": "stdout",
     "output_type": "stream",
     "text": [
      "2021-06-10\n",
      "<class 'datetime.date'>\n"
     ]
    }
   ],
   "source": [
    "# Printing a specific date.\n",
    "import datetime\n",
    "d = datetime.date(2021, 6, 10)\n",
    "\n",
    "print(d)\n",
    "print(type(d))"
   ]
  },
  {
   "cell_type": "code",
   "execution_count": 125,
   "id": "4a9ce6a7",
   "metadata": {},
   "outputs": [
    {
     "name": "stdout",
     "output_type": "stream",
     "text": [
      "-245 days, 0:00:00\n",
      "2021-06-10\n",
      "<class 'datetime.date'>\n"
     ]
    }
   ],
   "source": [
    "# Import date module from date class\n",
    "from datetime import date\n",
    "print(d - date(2022, 2, 10))\n",
    "print(d)\n",
    "print(type(d))"
   ]
  },
  {
   "cell_type": "code",
   "execution_count": 126,
   "id": "09c4dd81",
   "metadata": {},
   "outputs": [
    {
     "name": "stdout",
     "output_type": "stream",
     "text": [
      "Current year: 2023\n",
      "Current month: 4\n",
      "Current day: 21\n"
     ]
    }
   ],
   "source": [
    "# Printing current year, month and day.\n",
    "from datetime import date\n",
    "#date object of today's date\n",
    "today = date.today()\n",
    "\n",
    "print(\"Current year:\", today.year)\n",
    "print(\"Current month:\", today.month)\n",
    "print(\"Current day:\", today.day)"
   ]
  },
  {
   "cell_type": "code",
   "execution_count": 127,
   "id": "6c11ac9a",
   "metadata": {},
   "outputs": [
    {
     "name": "stdout",
     "output_type": "stream",
     "text": [
      "time = (6, 45, 25, 234566)\n"
     ]
    }
   ],
   "source": [
    "# Import module\n",
    "from datetime import time\n",
    "# Creating a time object.\n",
    "# time(hour, minute, second, microsecond).\n",
    "t = (6, 45, 25, 234566)\n",
    "\n",
    "print(\"time =\",t)"
   ]
  },
  {
   "cell_type": "code",
   "execution_count": 128,
   "id": "1f9bce90",
   "metadata": {},
   "outputs": [
    {
     "ename": "SyntaxError",
     "evalue": "invalid syntax (1027645154.py, line 5)",
     "output_type": "error",
     "traceback": [
      "\u001b[1;36m  File \u001b[1;32m\"C:\\Users\\alexc_dra7fx5\\AppData\\Local\\Temp\\ipykernel_12212\\1027645154.py\"\u001b[1;36m, line \u001b[1;32m5\u001b[0m\n\u001b[1;33m    print(\"year =\" t.year)\u001b[0m\n\u001b[1;37m                   ^\u001b[0m\n\u001b[1;31mSyntaxError\u001b[0m\u001b[1;31m:\u001b[0m invalid syntax\n"
     ]
    }
   ],
   "source": [
    "# Import module and class\n",
    "from datetime import datetime\n",
    "\n",
    "t = datetime (2017, 11, 28, 23, 55, 59, 342380)\n",
    "print(\"year =\" t.year)\n",
    "print(\"month =\" t.month)\n",
    "print(\"day =\", t.day)\n",
    "print(\"hour =\" t.hour)\n",
    "print(\"minute =\", t.minute)\n",
    "print(\"seconds =\", t.second)\n",
    "print(\"micro seconds =\", t.microsecond)"
   ]
  },
  {
   "cell_type": "code",
   "execution_count": 129,
   "id": "b2c36a2f",
   "metadata": {},
   "outputs": [
    {
     "name": "stdout",
     "output_type": "stream",
     "text": [
      "Current time 2023-04-21 21:10:38.582323\n",
      "Time with only hours, minutes and seconds &H:10:38\n"
     ]
    }
   ],
   "source": [
    "# Import the datetime module and datetime class.\n",
    "from datetime import datetime\n",
    "\n",
    "# Current date and time.\n",
    "now = datetime.now()\n",
    "print('Current time', now)\n",
    "\n",
    "# Using strftime to only print hours, minutes and seconds.\n",
    "t = now.strftime(\"&H:%M:%S\")\n",
    "print(\"Time with only hours, minutes and seconds\", t)"
   ]
  },
  {
   "cell_type": "code",
   "execution_count": 130,
   "id": "408f4a95",
   "metadata": {},
   "outputs": [
    {
     "ename": "NameError",
     "evalue": "name 'date_string' is not defined",
     "output_type": "error",
     "traceback": [
      "\u001b[1;31m---------------------------------------------------------------------------\u001b[0m",
      "\u001b[1;31mNameError\u001b[0m                                 Traceback (most recent call last)",
      "\u001b[1;32m~\\AppData\\Local\\Temp\\ipykernel_12212\\3160716603.py\u001b[0m in \u001b[0;36m<module>\u001b[1;34m\u001b[0m\n\u001b[0;32m      3\u001b[0m \u001b[1;33m\u001b[0m\u001b[0m\n\u001b[0;32m      4\u001b[0m \u001b[1;31m#Print the date_string.\u001b[0m\u001b[1;33m\u001b[0m\u001b[1;33m\u001b[0m\u001b[0m\n\u001b[1;32m----> 5\u001b[1;33m \u001b[0mprint\u001b[0m\u001b[1;33m(\u001b[0m\u001b[1;34m\"date_string=\"\u001b[0m\u001b[1;33m,\u001b[0m \u001b[0mdate_string\u001b[0m\u001b[1;33m)\u001b[0m\u001b[1;33m\u001b[0m\u001b[1;33m\u001b[0m\u001b[0m\n\u001b[0m\u001b[0;32m      6\u001b[0m \u001b[0mprint\u001b[0m\u001b[1;33m(\u001b[0m\u001b[1;34m\"Data type of date-string -->\"\u001b[0m\u001b[1;33m,\u001b[0m \u001b[0mtype\u001b[0m\u001b[1;33m(\u001b[0m\u001b[0mdate_string\u001b[0m\u001b[1;33m)\u001b[0m\u001b[1;33m)\u001b[0m\u001b[1;33m\u001b[0m\u001b[1;33m\u001b[0m\u001b[0m\n\u001b[0;32m      7\u001b[0m \u001b[1;33m\u001b[0m\u001b[0m\n",
      "\u001b[1;31mNameError\u001b[0m: name 'date_string' is not defined"
     ]
    }
   ],
   "source": [
    "# The date string you create in the previous code snippet.\n",
    "date_String = \"30 October 2021\"\n",
    "\n",
    "#Print the date_string.\n",
    "print(\"date_string=\", date_string)\n",
    "print(\"Data type of date-string -->\", type(date_string))\n",
    "\n",
    "# This is the date format\n",
    "date_object = datetime.strptime(date_string, \"&d %B %Y\")\n",
    "\n",
    "# Print the date_object.\n",
    "print(\"date_object =\", date_object)\n",
    "print(\"Datatype of the date_string after formatting with strptime -->\",\n",
    "     type(date_object))"
   ]
  },
  {
   "cell_type": "code",
   "execution_count": 131,
   "id": "a2f942bb",
   "metadata": {},
   "outputs": [
    {
     "name": "stdout",
     "output_type": "stream",
     "text": [
      "hour = 14\n",
      "minute = 42\n",
      "second = 5\n",
      "microsecond = 566\n"
     ]
    }
   ],
   "source": [
    "# Solution: \n",
    "from datetime import time \n",
    "t = time(14, 42, 5, 566)\n",
    "# if you type in 05 instead of 5 seconds, you will get an error\n",
    "\n",
    "print(\"hour =\", t.hour)\n",
    "print(\"minute =\", t.minute)\n",
    "print(\"second =\", t.second)\n",
    "print(\"microsecond =\", t.microsecond)"
   ]
  },
  {
   "cell_type": "code",
   "execution_count": 132,
   "id": "80cceb38",
   "metadata": {},
   "outputs": [
    {
     "name": "stdout",
     "output_type": "stream",
     "text": [
      "year = 2019\n",
      "month = 1\n",
      "day = 28\n",
      "hour = 23\n",
      "minute = 55\n",
      "'seconds = 59\n",
      "microsecond = 1023\n"
     ]
    }
   ],
   "source": [
    "# Solution : \n",
    "from datetime import datetime\n",
    "\n",
    "dt = datetime(2019, 1, 28, 23, 55, 59, 1023)\n",
    "print(\"year =\", dt.year)\n",
    "print(\"month =\", dt.month)\n",
    "print(\"day =\", dt.day)\n",
    "print(\"hour =\", dt.hour)\n",
    "print(\"minute =\", dt.minute)\n",
    "print(\"'seconds =\", dt.second)\n",
    "print(\"microsecond =\", dt.microsecond)"
   ]
  },
  {
   "cell_type": "code",
   "execution_count": 133,
   "id": "931b420b",
   "metadata": {},
   "outputs": [
    {
     "name": "stdout",
     "output_type": "stream",
     "text": [
      "Current year: 2023\n",
      "Current month: 4\n",
      "Current day: 21\n"
     ]
    }
   ],
   "source": [
    "# Printing current year, month and day\n",
    "from datetime import date\n",
    "\n",
    "# Date object of today's date\n",
    "today = date.today()\n",
    "\n",
    "print(\"Current year:\", today.year)\n",
    "print(\"Current month:\", today.month)\n",
    "print(\"Current day:\", today.day)"
   ]
  },
  {
   "cell_type": "code",
   "execution_count": 134,
   "id": "725f0125",
   "metadata": {},
   "outputs": [
    {
     "name": "stdout",
     "output_type": "stream",
     "text": [
      "The Zen of Python, by Tim Peters\n",
      "\n",
      "Beautiful is better than ugly.\n",
      "Explicit is better than implicit.\n",
      "Simple is better than complex.\n",
      "Complex is better than complicated.\n",
      "Flat is better than nested.\n",
      "Sparse is better than dense.\n",
      "Readability counts.\n",
      "Special cases aren't special enough to break the rules.\n",
      "Although practicality beats purity.\n",
      "Errors should never pass silently.\n",
      "Unless explicitly silenced.\n",
      "In the face of ambiguity, refuse the temptation to guess.\n",
      "There should be one-- and preferably only one --obvious way to do it.\n",
      "Although that way may not be obvious at first unless you're Dutch.\n",
      "Now is better than never.\n",
      "Although never is often better than *right* now.\n",
      "If the implementation is hard to explain, it's a bad idea.\n",
      "If the implementation is easy to explain, it may be a good idea.\n",
      "Namespaces are one honking great idea -- let's do more of those!\n"
     ]
    }
   ],
   "source": [
    "import this\n"
   ]
  },
  {
   "cell_type": "code",
   "execution_count": null,
   "id": "52c18b71",
   "metadata": {},
   "outputs": [],
   "source": []
  },
  {
   "cell_type": "code",
   "execution_count": null,
   "id": "c1e29778",
   "metadata": {},
   "outputs": [],
   "source": []
  }
 ],
 "metadata": {
  "kernelspec": {
   "display_name": "Python 3 (ipykernel)",
   "language": "python",
   "name": "python3"
  },
  "language_info": {
   "codemirror_mode": {
    "name": "ipython",
    "version": 3
   },
   "file_extension": ".py",
   "mimetype": "text/x-python",
   "name": "python",
   "nbconvert_exporter": "python",
   "pygments_lexer": "ipython3",
   "version": "3.9.13"
  }
 },
 "nbformat": 4,
 "nbformat_minor": 5
}
