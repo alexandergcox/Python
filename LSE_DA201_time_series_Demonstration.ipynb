{
 "cells": [
  {
   "cell_type": "markdown",
   "id": "48c017c5",
   "metadata": {},
   "source": [
    "### LSE Data Analytics Online Career Accelerator\n",
    "\n",
    "# DA201: Data Analytics using Python"
   ]
  },
  {
   "cell_type": "markdown",
   "id": "d90a5099",
   "metadata": {},
   "source": [
    "# Time-series forecasting (tutorial video)"
   ]
  },
  {
   "cell_type": "markdown",
   "id": "a64c16e2",
   "metadata": {},
   "source": [
    "This Jupyter Notebook is based on the time-series forecasting with Python tutorial video. Watch the video to explore time series forecasting with the simple moving average method in Python. In the video, you will explore:\n",
    "\n",
    "- what a simple moving average is\n",
    "- how to calculate a simple moving average\n",
    "- how to calculate a simple moving average data set."
   ]
  },
  {
   "cell_type": "markdown",
   "id": "35d625cf",
   "metadata": {},
   "source": [
    "## Prepare your workstation"
   ]
  },
  {
   "cell_type": "code",
   "execution_count": null,
   "id": "af672e81",
   "metadata": {},
   "outputs": [],
   "source": [
    "# Import necessary libraries.\n",
    "import numpy as np\n",
    "import pandas as pd\n",
    "import matplotlib.pyplot as plt\n",
    "import seaborn as sns\n",
    "sns.set()\n",
    "\n",
    "from sklearn.metrics import r2_score, median_absolute_error, mean_absolute_error\n",
    "from sklearn.metrics import median_absolute_error, mean_squared_error, mean_squared_log_error\n",
    "\n",
    "import warnings\n",
    "warnings.filterwarnings('ignore')\n",
    "\n",
    "%matplotlib inline\n",
    "\n",
    "## Get multiple outputs in the same cell.\n",
    "from IPython.core.interactiveshell import InteractiveShell\n",
    "InteractiveShell.ast_node_interactivity = \"all\""
   ]
  },
  {
   "cell_type": "code",
   "execution_count": null,
   "id": "66240593",
   "metadata": {},
   "outputs": [],
   "source": [
    "# Simple hacks to make plots look better: \n",
    "# # Colour palette to make charts look better.\n",
    "blue, = sns.color_palette(\"muted\", 1) \n",
    "\n",
    "# Dark grid, white grid, dark, white, and ticks.\n",
    "sns.set_style('whitegrid') \n",
    "\n",
    "# Font size of the axes titles.\n",
    "plt.rc('axes', titlesize=18) \n",
    "\n",
    "# Font size of the x and y labels.\n",
    "plt.rc('axes', labelsize=14)    \n",
    "\n",
    "# Font size of the tick labels.\n",
    "plt.rc('xtick', labelsize=13,color='#4f4e4e') \n",
    "\n",
    "# Font size of the tick labels.\n",
    "plt.rc('ytick', labelsize=13,color='#4f4e4e')  \n",
    "\n",
    "# Font size of the Legend.\n",
    "plt.rc('legend', fontsize=13)\n",
    "\n",
    "# Default text size.\n",
    "plt.rc('font', size=13)          "
   ]
  },
  {
   "cell_type": "code",
   "execution_count": null,
   "id": "8d8c3d9a",
   "metadata": {},
   "outputs": [],
   "source": [
    "# Import CSV file with Pandas.\n",
    "data = pd.read_csv('raw_sales.csv', index_col=['datesold'], parse_dates=['datesold'])\n",
    "\n",
    "# View DataFrame.\n",
    "print(data.shape)\n",
    "data.head()"
   ]
  },
  {
   "cell_type": "code",
   "execution_count": null,
   "id": "81e29fff",
   "metadata": {},
   "outputs": [],
   "source": [
    "# Creating a copy of the original data for convenience: \n",
    "data_sub = data.copy()\n",
    "\n",
    "# Data set consisting of houses with 5 bedrooms: \n",
    "df_5 = data_sub[data_sub['bedrooms'] == 5]\n",
    "\n",
    "# View output.\n",
    "df_5.head"
   ]
  },
  {
   "cell_type": "code",
   "execution_count": null,
   "id": "ac263118",
   "metadata": {},
   "outputs": [],
   "source": [
    "# Determine outliers for 5 bedrooms.\n",
    "# whis = multiplicative factor\n",
    "import seaborn as sns\n",
    "\n",
    "fig = plt.subplots(figsize=(12, 2))\n",
    "ax = sns.boxplot(x=df_5['price'], whis=1.5);"
   ]
  },
  {
   "cell_type": "code",
   "execution_count": null,
   "id": "6c51c3e1",
   "metadata": {},
   "outputs": [],
   "source": [
    "# Histogram of data set (5 bedrooms only).\n",
    "fig = df_5.price.hist(figsize = (12, 4))"
   ]
  },
  {
   "cell_type": "code",
   "execution_count": null,
   "id": "234b7999",
   "metadata": {},
   "outputs": [],
   "source": [
    "# Outlier removal:\n",
    "# Removing outliers from data set with 2 bedrooms:\n",
    "# The columns you want to search for outliers in.\n",
    "cols = ['price'] \n",
    "\n",
    "# Calculate quantiles and IQR.\n",
    "# Same as np.percentile but maps (0,1) and not (0,100).\n",
    "Q1 = df_5[cols].quantile(0.25) \n",
    "Q3 = df_5[cols].quantile(0.75)\n",
    "IQR = Q3 - Q1\n",
    "IQR\n",
    "\n",
    "# # Return a boolean array of the rows with (any) non-outlier column values.\n",
    "condition = ~((df_5[cols] < (Q1 - 1.5 * IQR)) | (df_5[cols] > (Q3 + 1.5 * IQR))).any(axis=1)\n",
    "\n",
    "# Filter the DataFrame based on a condition.\n",
    "df_5_non_outlier = df_5[condition]\n",
    "df_5_non_outlier.shape"
   ]
  },
  {
   "cell_type": "code",
   "execution_count": null,
   "id": "101d2304",
   "metadata": {},
   "outputs": [],
   "source": [
    "# Plot to see if outliers have been removed: \n",
    "# whis = multiplicative factor\n",
    "fig = plt.subplots(figsize=(12, 2))\n",
    "ax = sns.boxplot(x=df_5_non_outlier['price'], whis=1.5);"
   ]
  },
  {
   "cell_type": "code",
   "execution_count": null,
   "id": "1333f443",
   "metadata": {},
   "outputs": [],
   "source": [
    "# Plotting the time-series data.\n",
    "df_5_non_outlier.plot(figsize=(12, 4))\n",
    "plt.legend(loc='best')\n",
    "plt.title(\"Time-series plot for house with 5 bedrooms\")\n",
    "plt.show(block=False);"
   ]
  },
  {
   "cell_type": "code",
   "execution_count": null,
   "id": "3ca7d78d",
   "metadata": {},
   "outputs": [],
   "source": [
    "# Resampling data set with 5 bedrooms: \n",
    "df_5_res = df_5_non_outlier.resample('M').mean()\n",
    "\n",
    "# View the DataFrame.\n",
    "df_5_res.head()"
   ]
  },
  {
   "cell_type": "code",
   "execution_count": null,
   "id": "d702b54c",
   "metadata": {},
   "outputs": [],
   "source": [
    "# Dropping the missing values: \n",
    "df_5_res.dropna(inplace= True)\n",
    "\n",
    "df_5_res.isna().sum()"
   ]
  },
  {
   "cell_type": "code",
   "execution_count": null,
   "id": "39ae2daa",
   "metadata": {},
   "outputs": [],
   "source": [
    "# Plotting the time-series data.\n",
    "df_5_res.plot(figsize=(12, 4))\n",
    "plt.legend(loc='best')\n",
    "plt.title(\"Time-series plot after resampling\")\n",
    "plt.show(block=False);"
   ]
  },
  {
   "cell_type": "markdown",
   "id": "7b9cd037",
   "metadata": {},
   "source": [
    "# "
   ]
  },
  {
   "cell_type": "markdown",
   "id": "eec505cf",
   "metadata": {},
   "source": [
    "## Calculate the Simple Moving Average (SMA) for houses with 5 bedrooms"
   ]
  },
  {
   "cell_type": "code",
   "execution_count": null,
   "id": "94c24d68",
   "metadata": {},
   "outputs": [],
   "source": [
    "# This is a function to calculate and plot the simple moving average: \n",
    "def plot_moving_average(series, window, plot_intervals=False, scale=1.96):\n",
    "\n",
    "    rolling_mean = series.rolling(window=window).mean()\n",
    "    \n",
    "    plt.figure(figsize=(12,4))\n",
    "    plt.title(\"Moving average\\n window size = {}\".format(window))\n",
    "    plt.plot(rolling_mean, 'g', label='Simple moving average trend')\n",
    "    \n",
    "    # Plot confidence intervals for smoothed values.\n",
    "    if plot_intervals:\n",
    "        mae = mean_absolute_error(series[window:], rolling_mean[window:])\n",
    "        deviation = np.std(series[window:] - rolling_mean[window:])\n",
    "        lower_bound = rolling_mean - (mae + scale * deviation)\n",
    "        upper_bound = rolling_mean + (mae + scale * deviation)\n",
    "        plt.plot(upper_bound, 'r--', label='Upper bound / Lower bound')\n",
    "        plt.plot(lower_bound, 'r--')\n",
    "            \n",
    "    plt.plot(series[window:], label=\"Actual values\")\n",
    "    plt.legend(loc='best')\n",
    "    plt.grid(True)"
   ]
  },
  {
   "cell_type": "code",
   "execution_count": null,
   "id": "34f57ea8",
   "metadata": {},
   "outputs": [],
   "source": [
    "# Calculate SMA for a window size of 5.\n",
    "df_5_res['SMA_5'] = df_5_res.iloc[:, 1].rolling(window=5).mean()\n",
    "\n",
    "# Print the first 15 rows of data.\n",
    "print(df_5_res.head(15))"
   ]
  },
  {
   "cell_type": "code",
   "execution_count": null,
   "id": "67410e07",
   "metadata": {},
   "outputs": [],
   "source": [
    "# Smooth by the previous 5 days.\n",
    "plot_moving_average(df_5_res.price, 5, plot_intervals=True)"
   ]
  },
  {
   "cell_type": "code",
   "execution_count": null,
   "id": "c8ee7a7d",
   "metadata": {},
   "outputs": [],
   "source": [
    "# Calculate SMA for a window size of 5.\n",
    "df_5_res['SMA_30'] = df_5_res.iloc[:, 1].rolling(window=30).mean()\n",
    "\n",
    "# Calculate SMA for a window size of 5.\n",
    "df_5_res['SMA_90'] = df_5_res.iloc[:, 1].rolling(window=90).mean()\n",
    "\n",
    "# Print the first 100 rows of data.\n",
    "print(df_5_res.head(100))"
   ]
  },
  {
   "cell_type": "code",
   "execution_count": null,
   "id": "6e5f64b9",
   "metadata": {},
   "outputs": [],
   "source": [
    "# Smooth by the previous month (30 days).\n",
    "plot_moving_average(df_5_res.price, 30, plot_intervals=True)"
   ]
  },
  {
   "cell_type": "code",
   "execution_count": null,
   "id": "41adfecf",
   "metadata": {},
   "outputs": [],
   "source": [
    "# Smooth by the previous quarter (90 days).\n",
    "plot_moving_average(df_5_res.price, 90, plot_intervals=True)"
   ]
  },
  {
   "cell_type": "code",
   "execution_count": null,
   "id": "08bf8fc4",
   "metadata": {},
   "outputs": [],
   "source": []
  }
 ],
 "metadata": {
  "kernelspec": {
   "display_name": "Python 3 (ipykernel)",
   "language": "python",
   "name": "python3"
  },
  "language_info": {
   "codemirror_mode": {
    "name": "ipython",
    "version": 3
   },
   "file_extension": ".py",
   "mimetype": "text/x-python",
   "name": "python",
   "nbconvert_exporter": "python",
   "pygments_lexer": "ipython3",
   "version": "3.9.12"
  }
 },
 "nbformat": 4,
 "nbformat_minor": 5
}
