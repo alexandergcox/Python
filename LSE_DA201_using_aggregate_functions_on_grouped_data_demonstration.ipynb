{
 "cells": [
  {
   "cell_type": "markdown",
   "id": "e138f636",
   "metadata": {},
   "source": [
    "### LSE Data Analytics Online Career Accelerator \n",
    "\n",
    "# DA201:  Data Analytics with Python"
   ]
  },
  {
   "cell_type": "markdown",
   "id": "d02062af",
   "metadata": {},
   "source": [
    "## Using aggregate functions on grouped data (tutorial video)"
   ]
  },
  {
   "cell_type": "markdown",
   "id": "db0112b6",
   "metadata": {},
   "source": [
    "This file contains the code snippets that are introduced in the Using aggregate functions on grouped data video. \n",
    "Follow along with the demonstration to:\n",
    "- use the aggregate method as an operation on grouped data.\n",
    "\n",
    "Play and pause the video to follow along with the demonstration.\n",
    "\n",
    "Note: Steps 1 to 3 you completed in the demonstration video in '3.1.6 Introduction to groupby()'. These steps need to be run to complete this demonstration. The new code begins in Step 4."
   ]
  },
  {
   "cell_type": "markdown",
   "id": "76a79b09",
   "metadata": {},
   "source": [
    "### 1. Import pandas and create a DataFrame"
   ]
  },
  {
   "cell_type": "code",
   "execution_count": 1,
   "id": "8890e75c",
   "metadata": {},
   "outputs": [
    {
     "name": "stdout",
     "output_type": "stream",
     "text": [
      "(145, 5)\n",
      "(126, 5)\n",
      "(185, 5)\n",
      "(219, 5)\n"
     ]
    },
    {
     "data": {
      "text/plain": [
       "(675, 5)"
      ]
     },
     "execution_count": 1,
     "metadata": {},
     "output_type": "execute_result"
    }
   ],
   "source": [
    "# Import Pandas.\n",
    "import pandas as pd\n",
    "\n",
    "# Read CSV files from the current working directory\n",
    "classlist_a = pd.read_csv('classlist_a.csv')\n",
    "classlist_b = pd.read_csv('classlist_b.csv')\n",
    "classlist_c = pd.read_csv('classlist_c.csv')\n",
    "classlist_d = pd.read_csv('classlist_d.csv')\n",
    "\n",
    "# Print the shape of each DataFrame.\n",
    "print(classlist_a.shape)\n",
    "print(classlist_b.shape)\n",
    "print(classlist_c.shape)\n",
    "print(classlist_d.shape)\n",
    "\n",
    "# Merge four DataFrames into one DataFrame.\n",
    "classlist_final = pd.concat([classlist_a, classlist_b,\n",
    "                             classlist_c, classlist_d]) \n",
    "\n",
    "# View the DataFrame.\n",
    "classlist_final.shape"
   ]
  },
  {
   "cell_type": "markdown",
   "id": "10f1677d",
   "metadata": {},
   "source": [
    "### 2. Split data to create groups"
   ]
  },
  {
   "cell_type": "code",
   "execution_count": 2,
   "id": "52abdd11",
   "metadata": {},
   "outputs": [
    {
     "data": {
      "text/plain": [
       "<pandas.core.groupby.generic.DataFrameGroupBy object at 0x00000248823DBB80>"
      ]
     },
     "execution_count": 2,
     "metadata": {},
     "output_type": "execute_result"
    }
   ],
   "source": [
    "# Create group 1.\n",
    "group_surname = classlist_final.groupby('Surname')\n",
    "\n",
    "# View the DataFrame.\n",
    "group_surname"
   ]
  },
  {
   "cell_type": "code",
   "execution_count": 3,
   "id": "77df1916",
   "metadata": {},
   "outputs": [
    {
     "data": {
      "text/plain": [
       "<pandas.core.groupby.generic.DataFrameGroupBy object at 0x0000024882798B50>"
      ]
     },
     "execution_count": 3,
     "metadata": {},
     "output_type": "execute_result"
    }
   ],
   "source": [
    "# Create group 2.\n",
    "group_marks = classlist_final.groupby('Final mark')\n",
    "\n",
    "# View the DataFrame.\n",
    "group_marks"
   ]
  },
  {
   "cell_type": "code",
   "execution_count": 4,
   "id": "f0b69dc6",
   "metadata": {},
   "outputs": [
    {
     "data": {
      "text/plain": [
       "<pandas.core.groupby.generic.DataFrameGroupBy object at 0x000002488278F610>"
      ]
     },
     "execution_count": 4,
     "metadata": {},
     "output_type": "execute_result"
    }
   ],
   "source": [
    "# Create group 3.\n",
    "group_surname_marks = classlist_final.groupby(['Surname', 'Final mark'])\n",
    "\n",
    "# View the DataFrame.\n",
    "group_surname_marks"
   ]
  },
  {
   "cell_type": "markdown",
   "id": "d970fcd9",
   "metadata": {},
   "source": [
    "### 3. Create a criteria"
   ]
  },
  {
   "cell_type": "code",
   "execution_count": 5,
   "id": "a049598e",
   "metadata": {},
   "outputs": [
    {
     "data": {
      "text/html": [
       "<div>\n",
       "<style scoped>\n",
       "    .dataframe tbody tr th:only-of-type {\n",
       "        vertical-align: middle;\n",
       "    }\n",
       "\n",
       "    .dataframe tbody tr th {\n",
       "        vertical-align: top;\n",
       "    }\n",
       "\n",
       "    .dataframe thead th {\n",
       "        text-align: right;\n",
       "    }\n",
       "</style>\n",
       "<table border=\"1\" class=\"dataframe\">\n",
       "  <thead>\n",
       "    <tr style=\"text-align: right;\">\n",
       "      <th></th>\n",
       "      <th></th>\n",
       "      <th>Student number</th>\n",
       "    </tr>\n",
       "    <tr>\n",
       "      <th>Surname</th>\n",
       "      <th>Final mark</th>\n",
       "      <th></th>\n",
       "    </tr>\n",
       "  </thead>\n",
       "  <tbody>\n",
       "    <tr>\n",
       "      <th>ABRAHAMS</th>\n",
       "      <th>48.00</th>\n",
       "      <td>15793648</td>\n",
       "    </tr>\n",
       "    <tr>\n",
       "      <th>ACKERMANN</th>\n",
       "      <th>45.00</th>\n",
       "      <td>17483638</td>\n",
       "    </tr>\n",
       "    <tr>\n",
       "      <th>ADENDORFF</th>\n",
       "      <th>76.50</th>\n",
       "      <td>15849376</td>\n",
       "    </tr>\n",
       "    <tr>\n",
       "      <th>AFONSO</th>\n",
       "      <th>47.72</th>\n",
       "      <td>15476227</td>\n",
       "    </tr>\n",
       "    <tr>\n",
       "      <th>ALBERTUS</th>\n",
       "      <th>57.00</th>\n",
       "      <td>16564499</td>\n",
       "    </tr>\n",
       "    <tr>\n",
       "      <th>...</th>\n",
       "      <th>...</th>\n",
       "      <td>...</td>\n",
       "    </tr>\n",
       "    <tr>\n",
       "      <th>YOUNG</th>\n",
       "      <th>88.05</th>\n",
       "      <td>15849390</td>\n",
       "    </tr>\n",
       "    <tr>\n",
       "      <th>ZINN</th>\n",
       "      <th>74.00</th>\n",
       "      <td>17094607</td>\n",
       "    </tr>\n",
       "    <tr>\n",
       "      <th>ZONDAGH</th>\n",
       "      <th>59.10</th>\n",
       "      <td>15897184</td>\n",
       "    </tr>\n",
       "    <tr>\n",
       "      <th>ZONDI</th>\n",
       "      <th>74.46</th>\n",
       "      <td>16324773</td>\n",
       "    </tr>\n",
       "    <tr>\n",
       "      <th>ZUMA</th>\n",
       "      <th>64.50</th>\n",
       "      <td>16782879</td>\n",
       "    </tr>\n",
       "  </tbody>\n",
       "</table>\n",
       "<p>673 rows × 1 columns</p>\n",
       "</div>"
      ],
      "text/plain": [
       "                                           Student number\n",
       "Surname                        Final mark                \n",
       "ABRAHAMS                       48.00             15793648\n",
       "ACKERMANN                      45.00             17483638\n",
       "ADENDORFF                      76.50             15849376\n",
       "AFONSO                         47.72             15476227\n",
       "ALBERTUS                       57.00             16564499\n",
       "...                                                   ...\n",
       "YOUNG                          88.05             15849390\n",
       "ZINN                           74.00             17094607\n",
       "ZONDAGH                        59.10             15897184\n",
       "ZONDI                          74.46             16324773\n",
       "ZUMA                           64.50             16782879\n",
       "\n",
       "[673 rows x 1 columns]"
      ]
     },
     "execution_count": 5,
     "metadata": {},
     "output_type": "execute_result"
    }
   ],
   "source": [
    "# Create splitting within groups.\n",
    "group_surname_marks.sum()"
   ]
  },
  {
   "cell_type": "markdown",
   "id": "d38140b9",
   "metadata": {},
   "source": [
    "### 4. Determine the group sizes (option 1)"
   ]
  },
  {
   "cell_type": "code",
   "execution_count": 6,
   "id": "97e8db09",
   "metadata": {},
   "outputs": [
    {
     "data": {
      "text/plain": [
       "Surname                         Final mark\n",
       "ABRAHAMS                        48.00         1\n",
       "ACKERMANN                       45.00         1\n",
       "ADENDORFF                       76.50         1\n",
       "AFONSO                          47.72         1\n",
       "ALBERTUS                        57.00         1\n",
       "                                             ..\n",
       "YOUNG                           88.05         1\n",
       "ZINN                            74.00         1\n",
       "ZONDAGH                         59.10         1\n",
       "ZONDI                           74.46         1\n",
       "ZUMA                            64.50         1\n",
       "Length: 673, dtype: int64"
      ]
     },
     "execution_count": 6,
     "metadata": {},
     "output_type": "execute_result"
    }
   ],
   "source": [
    "# Use the size() function on the marks column.\n",
    "group_surname_marks.size()"
   ]
  },
  {
   "cell_type": "code",
   "execution_count": 7,
   "id": "c00b5f96",
   "metadata": {},
   "outputs": [
    {
     "data": {
      "text/plain": [
       "Surname\n",
       "ABRAHAMS                          1\n",
       "ACKERMANN                         1\n",
       "ADENDORFF                         1\n",
       "AFONSO                            1\n",
       "ALBERTUS                          1\n",
       "                                 ..\n",
       "YOUNG                             1\n",
       "ZINN                              1\n",
       "ZONDAGH                           1\n",
       "ZONDI                             1\n",
       "ZUMA                              1\n",
       "Length: 534, dtype: int64"
      ]
     },
     "execution_count": 7,
     "metadata": {},
     "output_type": "execute_result"
    }
   ],
   "source": [
    "# Use the size() function on the surname column.\n",
    "group_surname.size()"
   ]
  },
  {
   "cell_type": "markdown",
   "id": "2e1843a5",
   "metadata": {},
   "source": [
    "### 5. Determine group sizes (option 2)"
   ]
  },
  {
   "cell_type": "code",
   "execution_count": 8,
   "id": "366a38a7",
   "metadata": {},
   "outputs": [
    {
     "data": {
      "text/plain": [
       "Surname                         Initials  \n",
       "ABRAHAMS                        B             1\n",
       "ACKERMANN                       E             1\n",
       "ADENDORFF                       K             1\n",
       "AFONSO                          L             1\n",
       "ALBERTUS                        S             1\n",
       "                                             ..\n",
       "YOUNG                           V A           1\n",
       "ZINN                            A             1\n",
       "ZONDAGH                         L             1\n",
       "ZONDI                           WP            1\n",
       "ZUMA                            MC            1\n",
       "Length: 666, dtype: int64"
      ]
     },
     "execution_count": 8,
     "metadata": {},
     "output_type": "execute_result"
    }
   ],
   "source": [
    "# Create a group based on initials.\n",
    "group_initials = classlist_final.groupby('Initials')\n",
    "\n",
    "# Create group_surname_initials based on the surname and intials columns.\n",
    "group_surname_initials = classlist_final.groupby(['Surname', 'Initials'])\n",
    "\n",
    "# Find group size based on the initials and surname columns\n",
    "group_surname_initials.size()"
   ]
  },
  {
   "cell_type": "markdown",
   "id": "b876ff40",
   "metadata": {},
   "source": [
    "### 6. Determine group size using the count() function"
   ]
  },
  {
   "cell_type": "code",
   "execution_count": 9,
   "id": "0cee646f",
   "metadata": {},
   "outputs": [
    {
     "data": {
      "text/html": [
       "<div>\n",
       "<style scoped>\n",
       "    .dataframe tbody tr th:only-of-type {\n",
       "        vertical-align: middle;\n",
       "    }\n",
       "\n",
       "    .dataframe tbody tr th {\n",
       "        vertical-align: top;\n",
       "    }\n",
       "\n",
       "    .dataframe thead th {\n",
       "        text-align: right;\n",
       "    }\n",
       "</style>\n",
       "<table border=\"1\" class=\"dataframe\">\n",
       "  <thead>\n",
       "    <tr style=\"text-align: right;\">\n",
       "      <th></th>\n",
       "      <th></th>\n",
       "      <th>Student number</th>\n",
       "      <th>Final mark</th>\n",
       "      <th>Class</th>\n",
       "    </tr>\n",
       "    <tr>\n",
       "      <th>Surname</th>\n",
       "      <th>Initials</th>\n",
       "      <th></th>\n",
       "      <th></th>\n",
       "      <th></th>\n",
       "    </tr>\n",
       "  </thead>\n",
       "  <tbody>\n",
       "    <tr>\n",
       "      <th>ABRAHAMS</th>\n",
       "      <th>B</th>\n",
       "      <td>1</td>\n",
       "      <td>1</td>\n",
       "      <td>1</td>\n",
       "    </tr>\n",
       "    <tr>\n",
       "      <th>ACKERMANN</th>\n",
       "      <th>E</th>\n",
       "      <td>1</td>\n",
       "      <td>1</td>\n",
       "      <td>1</td>\n",
       "    </tr>\n",
       "    <tr>\n",
       "      <th>ADENDORFF</th>\n",
       "      <th>K</th>\n",
       "      <td>1</td>\n",
       "      <td>1</td>\n",
       "      <td>1</td>\n",
       "    </tr>\n",
       "    <tr>\n",
       "      <th>AFONSO</th>\n",
       "      <th>L</th>\n",
       "      <td>1</td>\n",
       "      <td>1</td>\n",
       "      <td>1</td>\n",
       "    </tr>\n",
       "    <tr>\n",
       "      <th>ALBERTUS</th>\n",
       "      <th>S</th>\n",
       "      <td>1</td>\n",
       "      <td>1</td>\n",
       "      <td>1</td>\n",
       "    </tr>\n",
       "    <tr>\n",
       "      <th>...</th>\n",
       "      <th>...</th>\n",
       "      <td>...</td>\n",
       "      <td>...</td>\n",
       "      <td>...</td>\n",
       "    </tr>\n",
       "    <tr>\n",
       "      <th>YOUNG</th>\n",
       "      <th>V A</th>\n",
       "      <td>1</td>\n",
       "      <td>1</td>\n",
       "      <td>1</td>\n",
       "    </tr>\n",
       "    <tr>\n",
       "      <th>ZINN</th>\n",
       "      <th>A</th>\n",
       "      <td>1</td>\n",
       "      <td>1</td>\n",
       "      <td>1</td>\n",
       "    </tr>\n",
       "    <tr>\n",
       "      <th>ZONDAGH</th>\n",
       "      <th>L</th>\n",
       "      <td>1</td>\n",
       "      <td>1</td>\n",
       "      <td>1</td>\n",
       "    </tr>\n",
       "    <tr>\n",
       "      <th>ZONDI</th>\n",
       "      <th>WP</th>\n",
       "      <td>1</td>\n",
       "      <td>1</td>\n",
       "      <td>1</td>\n",
       "    </tr>\n",
       "    <tr>\n",
       "      <th>ZUMA</th>\n",
       "      <th>MC</th>\n",
       "      <td>1</td>\n",
       "      <td>1</td>\n",
       "      <td>1</td>\n",
       "    </tr>\n",
       "  </tbody>\n",
       "</table>\n",
       "<p>666 rows × 3 columns</p>\n",
       "</div>"
      ],
      "text/plain": [
       "                                           Student number  Final mark  Class\n",
       "Surname                        Initials                                     \n",
       "ABRAHAMS                       B                        1           1      1\n",
       "ACKERMANN                      E                        1           1      1\n",
       "ADENDORFF                      K                        1           1      1\n",
       "AFONSO                         L                        1           1      1\n",
       "ALBERTUS                       S                        1           1      1\n",
       "...                                                   ...         ...    ...\n",
       "YOUNG                          V A                      1           1      1\n",
       "ZINN                           A                        1           1      1\n",
       "ZONDAGH                        L                        1           1      1\n",
       "ZONDI                          WP                       1           1      1\n",
       "ZUMA                           MC                       1           1      1\n",
       "\n",
       "[666 rows x 3 columns]"
      ]
     },
     "execution_count": 9,
     "metadata": {},
     "output_type": "execute_result"
    }
   ],
   "source": [
    "# Use the count() function.\n",
    "group_surname_initials.count()"
   ]
  },
  {
   "cell_type": "code",
   "execution_count": null,
   "id": "d7fe45bc",
   "metadata": {},
   "outputs": [],
   "source": []
  }
 ],
 "metadata": {
  "kernelspec": {
   "display_name": "Python 3 (ipykernel)",
   "language": "python",
   "name": "python3"
  },
  "language_info": {
   "codemirror_mode": {
    "name": "ipython",
    "version": 3
   },
   "file_extension": ".py",
   "mimetype": "text/x-python",
   "name": "python",
   "nbconvert_exporter": "python",
   "pygments_lexer": "ipython3",
   "version": "3.9.13"
  }
 },
 "nbformat": 4,
 "nbformat_minor": 5
}
