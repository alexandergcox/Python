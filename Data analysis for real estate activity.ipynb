{
 "cells": [
  {
   "cell_type": "code",
   "execution_count": 1,
   "id": "cd3cc0c3",
   "metadata": {},
   "outputs": [
    {
     "name": "stdout",
     "output_type": "stream",
     "text": [
      "My name is Alexander Cox\n",
      "The date is 18th April\n",
      "182900\n"
     ]
    }
   ],
   "source": [
    "#practice data analysis\n",
    "\n",
    "print(\"My name is Alexander Cox\")\n",
    "print(\"The date is 18th April\")\n",
    "\n",
    "#write a program to analyse real estate data\n",
    "\n",
    "#create variables, python doesn't use commas to separate thousands\n",
    "\n",
    "a = 45000\n",
    "b = 23400\n",
    "c = 67000\n",
    "d = 34600\n",
    "e = 12900\n",
    "\n",
    "# Total sales is sum of variables\n",
    "total_sales = a + b + c + d + e\n",
    "\n",
    "#view the output\n",
    "print(total_sales)"
   ]
  },
  {
   "cell_type": "code",
   "execution_count": 2,
   "id": "1d8b6e5c",
   "metadata": {},
   "outputs": [
    {
     "name": "stdout",
     "output_type": "stream",
     "text": [
      "36580.0\n"
     ]
    }
   ],
   "source": [
    "#calculate average sales price for the month of decemeber\n",
    "#create a new variable\n",
    "#calculate the average sales by dividing the total number of sales by 5\n",
    "\n",
    "avg_sales = total_sales/5\n",
    "\n",
    "#view the output\n",
    "print(avg_sales)"
   ]
  },
  {
   "cell_type": "code",
   "execution_count": 3,
   "id": "e047d0ef",
   "metadata": {},
   "outputs": [
    {
     "name": "stdout",
     "output_type": "stream",
     "text": [
      "60500\n"
     ]
    }
   ],
   "source": [
    "#print the property price for property C\n",
    "#create a new variable\n",
    "#calculate the price of property C as sales - commission\n",
    "\n",
    "property_price_c = (67000-6500)\n",
    "\n",
    "#view the output\n",
    "print(property_price_c)"
   ]
  },
  {
   "cell_type": "code",
   "execution_count": null,
   "id": "b999d293",
   "metadata": {},
   "outputs": [],
   "source": []
  }
 ],
 "metadata": {
  "kernelspec": {
   "display_name": "Python 3 (ipykernel)",
   "language": "python",
   "name": "python3"
  },
  "language_info": {
   "codemirror_mode": {
    "name": "ipython",
    "version": 3
   },
   "file_extension": ".py",
   "mimetype": "text/x-python",
   "name": "python",
   "nbconvert_exporter": "python",
   "pygments_lexer": "ipython3",
   "version": "3.9.13"
  }
 },
 "nbformat": 4,
 "nbformat_minor": 5
}
