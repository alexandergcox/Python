{
 "cells": [
  {
   "cell_type": "markdown",
   "id": "9f5d4cea",
   "metadata": {},
   "source": [
    "### LSE Data Analytics Online Career Accelerator \n",
    "\n",
    "# DA201:  Data Analytics with Python"
   ]
  },
  {
   "cell_type": "markdown",
   "id": "d08aeec1",
   "metadata": {},
   "source": [
    "## The split-apply-combine method (tutorial video)"
   ]
  },
  {
   "cell_type": "markdown",
   "id": "ece2731c",
   "metadata": {},
   "source": [
    "This file contains the code snippets that are introduced in the 'Split-apply-combine method' video. \n",
    "Follow along with the demonstration to:\n",
    "- split data from a data set\n",
    "- apply criteria to values in a data set\n",
    "\n",
    "Play and pause the video to follow along with the demonstration."
   ]
  },
  {
   "cell_type": "markdown",
   "id": "ca2f25d7",
   "metadata": {},
   "source": [
    "### 1. Import Pandas and create a DataFrame"
   ]
  },
  {
   "cell_type": "code",
   "execution_count": 1,
   "id": "8890e75c",
   "metadata": {},
   "outputs": [
    {
     "name": "stdout",
     "output_type": "stream",
     "text": [
      "(145, 5)\n",
      "(126, 5)\n",
      "(185, 5)\n",
      "(219, 5)\n"
     ]
    },
    {
     "data": {
      "text/plain": [
       "(675, 5)"
      ]
     },
     "execution_count": 1,
     "metadata": {},
     "output_type": "execute_result"
    }
   ],
   "source": [
    "# Import Pandas.\n",
    "import pandas as pd\n",
    "\n",
    "# Read CSV files from the current working directory.\n",
    "classlist_a = pd.read_csv('classlist_a.csv')\n",
    "classlist_b = pd.read_csv('classlist_b.csv')\n",
    "classlist_c = pd.read_csv('classlist_c.csv')\n",
    "classlist_d = pd.read_csv('classlist_d.csv')\n",
    "\n",
    "# Print the shape of each DataFrame.\n",
    "print(classlist_a.shape)\n",
    "print(classlist_b.shape)\n",
    "print(classlist_c.shape)\n",
    "print(classlist_d.shape)\n",
    "\n",
    "# Merge four DataFrames into one DataFrame.\n",
    "classlist_final = pd.concat([classlist_a, classlist_b,\n",
    "                             classlist_c, classlist_d]) \n",
    "\n",
    "# View the DataFrame.\n",
    "classlist_final.shape"
   ]
  },
  {
   "cell_type": "markdown",
   "id": "c688b313",
   "metadata": {},
   "source": [
    "### 2. Split data to create groups"
   ]
  },
  {
   "cell_type": "code",
   "execution_count": 5,
   "id": "52abdd11",
   "metadata": {},
   "outputs": [
    {
     "data": {
      "text/plain": [
       "<pandas.core.groupby.generic.DataFrameGroupBy object at 0x0000021AD9177850>"
      ]
     },
     "execution_count": 5,
     "metadata": {},
     "output_type": "execute_result"
    }
   ],
   "source": [
    "# Create Group 1.\n",
    "group_surname = classlist_final.groupby('Surname')\n",
    "\n",
    "# View the DataFrame.\n",
    "group_surname"
   ]
  },
  {
   "cell_type": "code",
   "execution_count": 4,
   "id": "77df1916",
   "metadata": {},
   "outputs": [
    {
     "data": {
      "text/plain": [
       "<pandas.core.groupby.generic.DataFrameGroupBy object at 0x0000021AD9177D60>"
      ]
     },
     "execution_count": 4,
     "metadata": {},
     "output_type": "execute_result"
    }
   ],
   "source": [
    "# Create Group 2.\n",
    "group_marks = classlist_final.groupby('Final mark')\n",
    "\n",
    "# View the DataFrame.\n",
    "group_marks"
   ]
  },
  {
   "cell_type": "code",
   "execution_count": 6,
   "id": "f0b69dc6",
   "metadata": {},
   "outputs": [
    {
     "data": {
      "text/plain": [
       "<pandas.core.groupby.generic.DataFrameGroupBy object at 0x0000021AD9177250>"
      ]
     },
     "execution_count": 6,
     "metadata": {},
     "output_type": "execute_result"
    }
   ],
   "source": [
    "# Create Group 3.\n",
    "group_surname_marks = classlist_final.groupby(['Surname', 'Final mark'])\n",
    "\n",
    "# View the DataFrame.\n",
    "group_surname_marks"
   ]
  },
  {
   "cell_type": "markdown",
   "id": "b2ed2ace",
   "metadata": {},
   "source": [
    "### 3. Create a criteria"
   ]
  },
  {
   "cell_type": "code",
   "execution_count": 7,
   "id": "a049598e",
   "metadata": {},
   "outputs": [
    {
     "data": {
      "text/html": [
       "<div>\n",
       "<style scoped>\n",
       "    .dataframe tbody tr th:only-of-type {\n",
       "        vertical-align: middle;\n",
       "    }\n",
       "\n",
       "    .dataframe tbody tr th {\n",
       "        vertical-align: top;\n",
       "    }\n",
       "\n",
       "    .dataframe thead th {\n",
       "        text-align: right;\n",
       "    }\n",
       "</style>\n",
       "<table border=\"1\" class=\"dataframe\">\n",
       "  <thead>\n",
       "    <tr style=\"text-align: right;\">\n",
       "      <th></th>\n",
       "      <th></th>\n",
       "      <th>Student number</th>\n",
       "    </tr>\n",
       "    <tr>\n",
       "      <th>Surname</th>\n",
       "      <th>Final mark</th>\n",
       "      <th></th>\n",
       "    </tr>\n",
       "  </thead>\n",
       "  <tbody>\n",
       "    <tr>\n",
       "      <th>ABRAHAMS</th>\n",
       "      <th>48.00</th>\n",
       "      <td>15793648</td>\n",
       "    </tr>\n",
       "    <tr>\n",
       "      <th>ACKERMANN</th>\n",
       "      <th>45.00</th>\n",
       "      <td>17483638</td>\n",
       "    </tr>\n",
       "    <tr>\n",
       "      <th>ADENDORFF</th>\n",
       "      <th>76.50</th>\n",
       "      <td>15849376</td>\n",
       "    </tr>\n",
       "    <tr>\n",
       "      <th>AFONSO</th>\n",
       "      <th>47.72</th>\n",
       "      <td>15476227</td>\n",
       "    </tr>\n",
       "    <tr>\n",
       "      <th>ALBERTUS</th>\n",
       "      <th>57.00</th>\n",
       "      <td>16564499</td>\n",
       "    </tr>\n",
       "    <tr>\n",
       "      <th>...</th>\n",
       "      <th>...</th>\n",
       "      <td>...</td>\n",
       "    </tr>\n",
       "    <tr>\n",
       "      <th>YOUNG</th>\n",
       "      <th>88.05</th>\n",
       "      <td>15849390</td>\n",
       "    </tr>\n",
       "    <tr>\n",
       "      <th>ZINN</th>\n",
       "      <th>74.00</th>\n",
       "      <td>17094607</td>\n",
       "    </tr>\n",
       "    <tr>\n",
       "      <th>ZONDAGH</th>\n",
       "      <th>59.10</th>\n",
       "      <td>15897184</td>\n",
       "    </tr>\n",
       "    <tr>\n",
       "      <th>ZONDI</th>\n",
       "      <th>74.46</th>\n",
       "      <td>16324773</td>\n",
       "    </tr>\n",
       "    <tr>\n",
       "      <th>ZUMA</th>\n",
       "      <th>64.50</th>\n",
       "      <td>16782879</td>\n",
       "    </tr>\n",
       "  </tbody>\n",
       "</table>\n",
       "<p>673 rows × 1 columns</p>\n",
       "</div>"
      ],
      "text/plain": [
       "                                           Student number\n",
       "Surname                        Final mark                \n",
       "ABRAHAMS                       48.00             15793648\n",
       "ACKERMANN                      45.00             17483638\n",
       "ADENDORFF                      76.50             15849376\n",
       "AFONSO                         47.72             15476227\n",
       "ALBERTUS                       57.00             16564499\n",
       "...                                                   ...\n",
       "YOUNG                          88.05             15849390\n",
       "ZINN                           74.00             17094607\n",
       "ZONDAGH                        59.10             15897184\n",
       "ZONDI                          74.46             16324773\n",
       "ZUMA                           64.50             16782879\n",
       "\n",
       "[673 rows x 1 columns]"
      ]
     },
     "execution_count": 7,
     "metadata": {},
     "output_type": "execute_result"
    }
   ],
   "source": [
    "# Create splitting within groups.\n",
    "group_surname_marks.sum()"
   ]
  },
  {
   "cell_type": "code",
   "execution_count": null,
   "id": "204460fa",
   "metadata": {},
   "outputs": [],
   "source": []
  }
 ],
 "metadata": {
  "kernelspec": {
   "display_name": "Python 3 (ipykernel)",
   "language": "python",
   "name": "python3"
  },
  "language_info": {
   "codemirror_mode": {
    "name": "ipython",
    "version": 3
   },
   "file_extension": ".py",
   "mimetype": "text/x-python",
   "name": "python",
   "nbconvert_exporter": "python",
   "pygments_lexer": "ipython3",
   "version": "3.9.13"
  }
 },
 "nbformat": 4,
 "nbformat_minor": 5
}
